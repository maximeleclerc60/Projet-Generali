{
 "cells": [
  {
   "cell_type": "markdown",
   "id": "f3313d8a",
   "metadata": {},
   "source": [
    "# *Première étape - le data cleaning*\n",
    "- Ces étapes ont été préparées **après nos analyses** à partir du template d'exploration de données\n",
    "- Importation des premiers modules\n",
    "- Suppression des colonnes faisant doublons avec l'index incrément\n",
    "- Suppression des lignes avec des valeurs manquantes\n",
    "- Passage de l'identifiant, unique, en index\n",
    "- Suppression des doublons complets "
   ]
  },
  {
   "cell_type": "code",
   "execution_count": 1,
   "id": "3007c587",
   "metadata": {},
   "outputs": [],
   "source": [
    "# importation des premiers modules\n",
    "import pandas as pd\n",
    "import numpy as np\n",
    "import matplotlib.pyplot as plt\n",
    "import seaborn as sns\n",
    "pd.set_option('display.max_columns',500)"
   ]
  },
  {
   "cell_type": "code",
   "execution_count": 2,
   "id": "b610742a",
   "metadata": {},
   "outputs": [],
   "source": [
    "# importation des fichiers du jeux de données et création de deux dataframes\n",
    "\n",
    "X_train=pd.read_csv('X_train.csv')\n",
    "y_train=pd.read_csv('y_train_saegPGl.csv')\n"
   ]
  },
  {
   "cell_type": "code",
   "execution_count": 3,
   "id": "6662f43f",
   "metadata": {},
   "outputs": [],
   "source": [
    "# fusion des deux datafames crées avec la clé identifiant\n",
    "\n",
    "df=y_train.merge(X_train, on='Identifiant')"
   ]
  },
  {
   "cell_type": "code",
   "execution_count": 4,
   "id": "40b94001",
   "metadata": {},
   "outputs": [
    {
     "data": {
      "text/plain": [
       "(10229, 28)"
      ]
     },
     "execution_count": 4,
     "metadata": {},
     "output_type": "execute_result"
    }
   ],
   "source": [
    "# affichage du format de la base\n",
    "\n",
    "df.shape"
   ]
  },
  {
   "cell_type": "code",
   "execution_count": 5,
   "id": "aca0e200",
   "metadata": {},
   "outputs": [],
   "source": [
    "# suppression des colonnes Unnamed \n",
    "\n",
    "df=df.drop(['Unnamed: 0_x','Unnamed: 0_y'], axis=1)"
   ]
  },
  {
   "cell_type": "code",
   "execution_count": 6,
   "id": "dc26eaa2",
   "metadata": {},
   "outputs": [
    {
     "data": {
      "text/html": [
       "<div>\n",
       "<style scoped>\n",
       "    .dataframe tbody tr th:only-of-type {\n",
       "        vertical-align: middle;\n",
       "    }\n",
       "\n",
       "    .dataframe tbody tr th {\n",
       "        vertical-align: top;\n",
       "    }\n",
       "\n",
       "    .dataframe thead th {\n",
       "        text-align: right;\n",
       "    }\n",
       "</style>\n",
       "<table border=\"1\" class=\"dataframe\">\n",
       "  <thead>\n",
       "    <tr style=\"text-align: right;\">\n",
       "      <th></th>\n",
       "      <th>Identifiant</th>\n",
       "      <th>target</th>\n",
       "      <th>ft_2_categ</th>\n",
       "      <th>EXPO</th>\n",
       "      <th>ft_4_categ</th>\n",
       "      <th>ft_5_categ</th>\n",
       "      <th>ft_6_categ</th>\n",
       "      <th>ft_7_categ</th>\n",
       "      <th>ft_8_categ</th>\n",
       "      <th>ft_9_categ</th>\n",
       "      <th>ft_10_categ</th>\n",
       "      <th>ft_11_categ</th>\n",
       "      <th>ft_12_categ</th>\n",
       "      <th>ft_13_categ</th>\n",
       "      <th>ft_14_categ</th>\n",
       "      <th>ft_15_categ</th>\n",
       "      <th>ft_16_categ</th>\n",
       "      <th>ft_17_categ</th>\n",
       "      <th>ft_18_categ</th>\n",
       "      <th>ft_19_categ</th>\n",
       "      <th>superficief</th>\n",
       "      <th>ft_21_categ</th>\n",
       "      <th>ft_22_categ</th>\n",
       "      <th>ft_23_categ</th>\n",
       "      <th>ft_24_categ</th>\n",
       "      <th>Insee</th>\n",
       "    </tr>\n",
       "  </thead>\n",
       "  <tbody>\n",
       "    <tr>\n",
       "      <th>0</th>\n",
       "      <td>18702</td>\n",
       "      <td>0</td>\n",
       "      <td>2014</td>\n",
       "      <td>1</td>\n",
       "      <td>0</td>\n",
       "      <td>V</td>\n",
       "      <td>N</td>\n",
       "      <td>1</td>\n",
       "      <td>O</td>\n",
       "      <td>1</td>\n",
       "      <td>O</td>\n",
       "      <td>N</td>\n",
       "      <td>N</td>\n",
       "      <td>N</td>\n",
       "      <td>N</td>\n",
       "      <td>AUTRE</td>\n",
       "      <td>IDENTIQUE</td>\n",
       "      <td>V</td>\n",
       "      <td>base</td>\n",
       "      <td>2</td>\n",
       "      <td>1351.0</td>\n",
       "      <td>4</td>\n",
       "      <td>2012.0</td>\n",
       "      <td>0.0</td>\n",
       "      <td>2</td>\n",
       "      <td>65440</td>\n",
       "    </tr>\n",
       "    <tr>\n",
       "      <th>1</th>\n",
       "      <td>3877</td>\n",
       "      <td>1</td>\n",
       "      <td>2014</td>\n",
       "      <td>1</td>\n",
       "      <td>0</td>\n",
       "      <td>V</td>\n",
       "      <td>V</td>\n",
       "      <td>V</td>\n",
       "      <td>V</td>\n",
       "      <td>V</td>\n",
       "      <td>V</td>\n",
       "      <td>V</td>\n",
       "      <td>V</td>\n",
       "      <td>V</td>\n",
       "      <td>V</td>\n",
       "      <td>V</td>\n",
       "      <td>V</td>\n",
       "      <td>N</td>\n",
       "      <td>base</td>\n",
       "      <td>2</td>\n",
       "      <td>1972.0</td>\n",
       "      <td>2</td>\n",
       "      <td>1980.0</td>\n",
       "      <td>0.0</td>\n",
       "      <td>.</td>\n",
       "      <td>14341</td>\n",
       "    </tr>\n",
       "    <tr>\n",
       "      <th>2</th>\n",
       "      <td>4942</td>\n",
       "      <td>0</td>\n",
       "      <td>2013</td>\n",
       "      <td>1</td>\n",
       "      <td>1</td>\n",
       "      <td>V</td>\n",
       "      <td>V</td>\n",
       "      <td>V</td>\n",
       "      <td>V</td>\n",
       "      <td>V</td>\n",
       "      <td>V</td>\n",
       "      <td>V</td>\n",
       "      <td>V</td>\n",
       "      <td>V</td>\n",
       "      <td>V</td>\n",
       "      <td>V</td>\n",
       "      <td>V</td>\n",
       "      <td>N</td>\n",
       "      <td>base</td>\n",
       "      <td>2</td>\n",
       "      <td>1630.0</td>\n",
       "      <td>4</td>\n",
       "      <td>NaN</td>\n",
       "      <td>0.0</td>\n",
       "      <td>.</td>\n",
       "      <td>75109</td>\n",
       "    </tr>\n",
       "    <tr>\n",
       "      <th>3</th>\n",
       "      <td>13428</td>\n",
       "      <td>0</td>\n",
       "      <td>2013</td>\n",
       "      <td>0,246575342</td>\n",
       "      <td>0</td>\n",
       "      <td>N</td>\n",
       "      <td>V</td>\n",
       "      <td>V</td>\n",
       "      <td>V</td>\n",
       "      <td>V</td>\n",
       "      <td>V</td>\n",
       "      <td>V</td>\n",
       "      <td>V</td>\n",
       "      <td>V</td>\n",
       "      <td>V</td>\n",
       "      <td>V</td>\n",
       "      <td>V</td>\n",
       "      <td>N</td>\n",
       "      <td>base</td>\n",
       "      <td>2</td>\n",
       "      <td>532.0</td>\n",
       "      <td>3</td>\n",
       "      <td>NaN</td>\n",
       "      <td>0.0</td>\n",
       "      <td>.</td>\n",
       "      <td>92004</td>\n",
       "    </tr>\n",
       "    <tr>\n",
       "      <th>4</th>\n",
       "      <td>17137</td>\n",
       "      <td>0</td>\n",
       "      <td>2015</td>\n",
       "      <td>1</td>\n",
       "      <td>0</td>\n",
       "      <td>V</td>\n",
       "      <td>N</td>\n",
       "      <td>2</td>\n",
       "      <td>O</td>\n",
       "      <td>1</td>\n",
       "      <td>O</td>\n",
       "      <td>N</td>\n",
       "      <td>N</td>\n",
       "      <td>O</td>\n",
       "      <td>N</td>\n",
       "      <td>AUTRE</td>\n",
       "      <td>IDENTIQUE</td>\n",
       "      <td>V</td>\n",
       "      <td>base</td>\n",
       "      <td>2</td>\n",
       "      <td>1050.0</td>\n",
       "      <td>2</td>\n",
       "      <td>1972.0</td>\n",
       "      <td>0.0</td>\n",
       "      <td>4</td>\n",
       "      <td>59340</td>\n",
       "    </tr>\n",
       "  </tbody>\n",
       "</table>\n",
       "</div>"
      ],
      "text/plain": [
       "   Identifiant  target  ft_2_categ         EXPO  ft_4_categ ft_5_categ  \\\n",
       "0        18702       0        2014            1           0          V   \n",
       "1         3877       1        2014            1           0          V   \n",
       "2         4942       0        2013            1           1          V   \n",
       "3        13428       0        2013  0,246575342           0          N   \n",
       "4        17137       0        2015            1           0          V   \n",
       "\n",
       "  ft_6_categ ft_7_categ ft_8_categ ft_9_categ ft_10_categ ft_11_categ  \\\n",
       "0          N          1          O          1           O           N   \n",
       "1          V          V          V          V           V           V   \n",
       "2          V          V          V          V           V           V   \n",
       "3          V          V          V          V           V           V   \n",
       "4          N          2          O          1           O           N   \n",
       "\n",
       "  ft_12_categ ft_13_categ ft_14_categ ft_15_categ ft_16_categ ft_17_categ  \\\n",
       "0           N           N           N       AUTRE   IDENTIQUE           V   \n",
       "1           V           V           V           V           V           N   \n",
       "2           V           V           V           V           V           N   \n",
       "3           V           V           V           V           V           N   \n",
       "4           N           O           N       AUTRE   IDENTIQUE           V   \n",
       "\n",
       "  ft_18_categ  ft_19_categ  superficief  ft_21_categ  ft_22_categ ft_23_categ  \\\n",
       "0        base            2       1351.0            4       2012.0         0.0   \n",
       "1        base            2       1972.0            2       1980.0         0.0   \n",
       "2        base            2       1630.0            4          NaN         0.0   \n",
       "3        base            2        532.0            3          NaN         0.0   \n",
       "4        base            2       1050.0            2       1972.0         0.0   \n",
       "\n",
       "  ft_24_categ  Insee  \n",
       "0           2  65440  \n",
       "1           .  14341  \n",
       "2           .  75109  \n",
       "3           .  92004  \n",
       "4           4  59340  "
      ]
     },
     "execution_count": 6,
     "metadata": {},
     "output_type": "execute_result"
    }
   ],
   "source": [
    "df.head()"
   ]
  },
  {
   "cell_type": "code",
   "execution_count": 7,
   "id": "0d5b724b",
   "metadata": {},
   "outputs": [
    {
     "data": {
      "text/html": [
       "<div>\n",
       "<style scoped>\n",
       "    .dataframe tbody tr th:only-of-type {\n",
       "        vertical-align: middle;\n",
       "    }\n",
       "\n",
       "    .dataframe tbody tr th {\n",
       "        vertical-align: top;\n",
       "    }\n",
       "\n",
       "    .dataframe thead th {\n",
       "        text-align: right;\n",
       "    }\n",
       "</style>\n",
       "<table border=\"1\" class=\"dataframe\">\n",
       "  <thead>\n",
       "    <tr style=\"text-align: right;\">\n",
       "      <th></th>\n",
       "      <th>Count</th>\n",
       "      <th>Percent</th>\n",
       "    </tr>\n",
       "  </thead>\n",
       "  <tbody>\n",
       "    <tr>\n",
       "      <th>superficief</th>\n",
       "      <td>119</td>\n",
       "      <td>1.163359</td>\n",
       "    </tr>\n",
       "    <tr>\n",
       "      <th>ft_22_categ</th>\n",
       "      <td>1236</td>\n",
       "      <td>12.083293</td>\n",
       "    </tr>\n",
       "    <tr>\n",
       "      <th>Insee</th>\n",
       "      <td>115</td>\n",
       "      <td>1.124255</td>\n",
       "    </tr>\n",
       "  </tbody>\n",
       "</table>\n",
       "</div>"
      ],
      "text/plain": [
       "             Count    Percent\n",
       "superficief    119   1.163359\n",
       "ft_22_categ   1236  12.083293\n",
       "Insee          115   1.124255"
      ]
     },
     "execution_count": 7,
     "metadata": {},
     "output_type": "execute_result"
    }
   ],
   "source": [
    "# calcul des proportions de valeurs manquantes\n",
    "\n",
    "df_null = pd.DataFrame({'Count': df.isnull().sum(), 'Percent': 100*df.isnull().sum()/len(df)})\n",
    "df_null[df_null['Count'] > 0]"
   ]
  },
  {
   "cell_type": "code",
   "execution_count": 8,
   "id": "28bca807",
   "metadata": {},
   "outputs": [
    {
     "data": {
      "text/plain": [
       "(8878, 26)"
      ]
     },
     "execution_count": 8,
     "metadata": {},
     "output_type": "execute_result"
    }
   ],
   "source": [
    "#suppression des valeurs manquantes\n",
    "\n",
    "df.dropna(inplace=True)\n",
    "df.shape"
   ]
  },
  {
   "cell_type": "code",
   "execution_count": 9,
   "id": "9cf51d09",
   "metadata": {},
   "outputs": [],
   "source": [
    "# passage de l'identifiant en index (l'identification est unique)\n",
    "\n",
    "df=df.set_index('Identifiant')"
   ]
  },
  {
   "cell_type": "code",
   "execution_count": 10,
   "id": "4307934f",
   "metadata": {},
   "outputs": [
    {
     "name": "stdout",
     "output_type": "stream",
     "text": [
      "(21, 25)\n"
     ]
    }
   ],
   "source": [
    "# recherche des doublons complets\n",
    "\n",
    "test=df[df.iloc[:,:].duplicated()==True]\n",
    "print(test.shape)"
   ]
  },
  {
   "cell_type": "code",
   "execution_count": 11,
   "id": "f1ea015d",
   "metadata": {},
   "outputs": [
    {
     "data": {
      "text/plain": [
       "(8857, 25)"
      ]
     },
     "execution_count": 11,
     "metadata": {},
     "output_type": "execute_result"
    }
   ],
   "source": [
    "# suppression des doublons complets\n",
    "\n",
    "df.drop_duplicates(inplace=True)\n",
    "df.shape"
   ]
  },
  {
   "cell_type": "code",
   "execution_count": 12,
   "id": "088df953",
   "metadata": {},
   "outputs": [
    {
     "data": {
      "text/plain": [
       "(8849, 25)"
      ]
     },
     "execution_count": 12,
     "metadata": {},
     "output_type": "execute_result"
    }
   ],
   "source": [
    "# suppression des doublons hors target\n",
    "\n",
    "df.drop_duplicates(subset=df.columns[1:],inplace=True)\n",
    "df.shape"
   ]
  },
  {
   "cell_type": "code",
   "execution_count": 13,
   "id": "f155a446",
   "metadata": {},
   "outputs": [
    {
     "name": "stdout",
     "output_type": "stream",
     "text": [
      "<class 'pandas.core.frame.DataFrame'>\n",
      "Int64Index: 8849 entries, 18702 to 8817\n",
      "Data columns (total 25 columns):\n",
      " #   Column       Non-Null Count  Dtype  \n",
      "---  ------       --------------  -----  \n",
      " 0   target       8849 non-null   int64  \n",
      " 1   ft_2_categ   8849 non-null   int64  \n",
      " 2   EXPO         8849 non-null   object \n",
      " 3   ft_4_categ   8849 non-null   int64  \n",
      " 4   ft_5_categ   8849 non-null   object \n",
      " 5   ft_6_categ   8849 non-null   object \n",
      " 6   ft_7_categ   8849 non-null   object \n",
      " 7   ft_8_categ   8849 non-null   object \n",
      " 8   ft_9_categ   8849 non-null   object \n",
      " 9   ft_10_categ  8849 non-null   object \n",
      " 10  ft_11_categ  8849 non-null   object \n",
      " 11  ft_12_categ  8849 non-null   object \n",
      " 12  ft_13_categ  8849 non-null   object \n",
      " 13  ft_14_categ  8849 non-null   object \n",
      " 14  ft_15_categ  8849 non-null   object \n",
      " 15  ft_16_categ  8849 non-null   object \n",
      " 16  ft_17_categ  8849 non-null   object \n",
      " 17  ft_18_categ  8849 non-null   object \n",
      " 18  ft_19_categ  8849 non-null   int64  \n",
      " 19  superficief  8849 non-null   float64\n",
      " 20  ft_21_categ  8849 non-null   int64  \n",
      " 21  ft_22_categ  8849 non-null   float64\n",
      " 22  ft_23_categ  8849 non-null   object \n",
      " 23  ft_24_categ  8849 non-null   object \n",
      " 24  Insee        8849 non-null   object \n",
      "dtypes: float64(2), int64(5), object(18)\n",
      "memory usage: 1.8+ MB\n"
     ]
    }
   ],
   "source": [
    "# visualisation des informations de base du dataframe\n",
    "\n",
    "df.info()"
   ]
  },
  {
   "cell_type": "markdown",
   "id": "dcb5ac2f",
   "metadata": {},
   "source": [
    "# *Deuxième étape - la mise en bonne forme des données*\n",
    "\n",
    "- Ces étapes sont aussi tirées par nos explorations de données et des hypothèses formulées sur ce que pourraient être certaines colonnes anonymisées \n",
    "- Conversion des \"fausses\" numériques en catégorielles : FT_2, FT_4, FT_19, FT_21 \n",
    "- Conversion des \"fausses\" Object en numérique : EXPO\n",
    "- Conversion des années de construction en decennie avec conversion en catégorielle\n",
    "- Suppression de la ft_16, identique à la ft_15\n",
    "- Suppression de la ft_22 remplacable par la decennie"
   ]
  },
  {
   "cell_type": "code",
   "execution_count": 14,
   "id": "cad1bb8b",
   "metadata": {},
   "outputs": [],
   "source": [
    "# conversion des fausses numériques en object\n",
    "\n",
    "df[['ft_2_categ', 'ft_4_categ', 'ft_19_categ','ft_21_categ']]= df[['ft_2_categ','ft_4_categ', \n",
    "                                                                   'ft_19_categ','ft_21_categ']].astype(str)\n",
    "# conversion d'EXPO en float\n",
    "\n",
    "df['EXPO']=df['EXPO'].str.replace(',', '.').astype(float)\n",
    "\n",
    "# création de la catégorielle décennie à partir de FT_22, supposée année de construction\n",
    "\n",
    "df['ft_22_categ']=df['ft_22_categ'].astype('int')\n",
    "def todecade(y):\n",
    "    return str(y)[:3] + '0'\n",
    "df[\"decennie\"] = df[\"ft_22_categ\"].apply(todecade)\n",
    "df['decennie']=df['decennie'].astype('str')\n",
    "\n",
    "# suppression des ft_16 et ft_22\n",
    "\n",
    "df=df.drop(['ft_16_categ', 'ft_22_categ'], axis=1)"
   ]
  },
  {
   "cell_type": "code",
   "execution_count": 15,
   "id": "22fce09a",
   "metadata": {},
   "outputs": [
    {
     "name": "stdout",
     "output_type": "stream",
     "text": [
      "<class 'pandas.core.frame.DataFrame'>\n",
      "Int64Index: 8849 entries, 18702 to 8817\n",
      "Data columns (total 24 columns):\n",
      " #   Column       Non-Null Count  Dtype  \n",
      "---  ------       --------------  -----  \n",
      " 0   target       8849 non-null   int64  \n",
      " 1   ft_2_categ   8849 non-null   object \n",
      " 2   EXPO         8849 non-null   float64\n",
      " 3   ft_4_categ   8849 non-null   object \n",
      " 4   ft_5_categ   8849 non-null   object \n",
      " 5   ft_6_categ   8849 non-null   object \n",
      " 6   ft_7_categ   8849 non-null   object \n",
      " 7   ft_8_categ   8849 non-null   object \n",
      " 8   ft_9_categ   8849 non-null   object \n",
      " 9   ft_10_categ  8849 non-null   object \n",
      " 10  ft_11_categ  8849 non-null   object \n",
      " 11  ft_12_categ  8849 non-null   object \n",
      " 12  ft_13_categ  8849 non-null   object \n",
      " 13  ft_14_categ  8849 non-null   object \n",
      " 14  ft_15_categ  8849 non-null   object \n",
      " 15  ft_17_categ  8849 non-null   object \n",
      " 16  ft_18_categ  8849 non-null   object \n",
      " 17  ft_19_categ  8849 non-null   object \n",
      " 18  superficief  8849 non-null   float64\n",
      " 19  ft_21_categ  8849 non-null   object \n",
      " 20  ft_23_categ  8849 non-null   object \n",
      " 21  ft_24_categ  8849 non-null   object \n",
      " 22  Insee        8849 non-null   object \n",
      " 23  decennie     8849 non-null   object \n",
      "dtypes: float64(2), int64(1), object(21)\n",
      "memory usage: 1.7+ MB\n"
     ]
    }
   ],
   "source": [
    "df.info()"
   ]
  },
  {
   "cell_type": "markdown",
   "id": "267013a2",
   "metadata": {},
   "source": [
    "# *Troisième étape -  l'exploration graphique des données*\n",
    "\n",
    "#1: courbes de distribution des numériques (ou assimilée)\n",
    "\n",
    "#2: répartition des occurences des catégorielles\n",
    "\n",
    "#3: mise en évidence des liens entre variables\n",
    "\n",
    "#4: mise en évidence des liens entre variables et target"
   ]
  },
  {
   "cell_type": "markdown",
   "id": "6b95051b",
   "metadata": {},
   "source": [
    "# #1"
   ]
  },
  {
   "cell_type": "code",
   "execution_count": 144,
   "id": "112ffbaa",
   "metadata": {},
   "outputs": [
    {
     "name": "stdout",
     "output_type": "stream",
     "text": [
      "0    0.77\n",
      "1    0.23\n",
      "Name: target, dtype: float64\n"
     ]
    },
    {
     "data": {
      "image/png": "[encoded data removed]",
      "text/plain": [
       "<Figure size 432x288 with 1 Axes>"
      ]
     },
     "metadata": {
      "needs_background": "light"
     },
     "output_type": "display_data"
    }
   ],
   "source": [
    "# répartition de la target\n",
    "\n",
    "sns.countplot(data=df, x='target')\n",
    "print(df['target'].value_counts(normalize=True).round(2));"
   ]
  },
  {
   "cell_type": "code",
   "execution_count": 145,
   "id": "e464ff17",
   "metadata": {},
   "outputs": [
    {
     "data": {
      "image/png": "[encoded data removed]",
      "text/plain": [
       "<Figure size 1440x720 with 1 Axes>"
      ]
     },
     "metadata": {
      "needs_background": "light"
     },
     "output_type": "display_data"
    }
   ],
   "source": [
    "# courbe de distribution des numériques: la superficie\n",
    "\n",
    "sns.displot(df['superficief']);\n",
    "plt.gcf().set_size_inches(20, 10);\n"
   ]
  },
  {
   "cell_type": "code",
   "execution_count": 146,
   "id": "046bab48",
   "metadata": {
    "scrolled": true
   },
   "outputs": [
    {
     "data": {
      "image/png": "[encoded data removed]",
      "text/plain": [
       "<Figure size 576x288 with 1 Axes>"
      ]
     },
     "metadata": {
      "needs_background": "light"
     },
     "output_type": "display_data"
    }
   ],
   "source": [
    "# courbe de distribution des numériques: l'EXPO\n",
    "\n",
    "sns.displot(df['EXPO']);\n",
    "plt.gcf().set_size_inches(8, 4);"
   ]
  },
  {
   "cell_type": "code",
   "execution_count": 147,
   "id": "71fb3e5b",
   "metadata": {
    "scrolled": false
   },
   "outputs": [
    {
     "data": {
      "image/png": "[encoded data removed]",
      "text/plain": [
       "<Figure size 1440x720 with 1 Axes>"
      ]
     },
     "metadata": {
      "needs_background": "light"
     },
     "output_type": "display_data"
    }
   ],
   "source": [
    "# distribution de la nouvelle variable decennie (assimilée numérique)\n",
    "\n",
    "sns.displot(df['decennie'].astype('int'));\n",
    "plt.gcf().set_size_inches(20, 10);"
   ]
  },
  {
   "cell_type": "markdown",
   "id": "63f83721",
   "metadata": {},
   "source": [
    "# #2"
   ]
  },
  {
   "cell_type": "code",
   "execution_count": 148,
   "id": "6b527175",
   "metadata": {
    "scrolled": true
   },
   "outputs": [
    {
     "name": "stdout",
     "output_type": "stream",
     "text": [
      "ft_2_categ-----['2014' '2015' '2016' '2013' '2012']\n",
      "ft_4_categ-----['0' '1']\n",
      "ft_5_categ-----['V' 'N' 'O']\n",
      "ft_6_categ-----['N' 'V' 'O']\n",
      "ft_7_categ-----['1' 'V' '2' '3']\n",
      "ft_8_categ-----['O' 'V' 'N']\n",
      "ft_9_categ-----['1' 'V' '2' '3']\n",
      "ft_10_categ----['O' 'V' 'N']\n",
      "ft_11_categ----['N' 'V' 'O']\n",
      "ft_12_categ----['N' 'V' 'O']\n",
      "ft_13_categ----['N' 'V' 'O']\n",
      "ft_14_categ----['N' 'V' 'O']\n",
      "ft_15_categ----['AUTRE' 'V']\n",
      "ft_17_categ----['V' 'N' 'O']\n",
      "ft_18_categ----['base' 'effpi' 'pi' 'eff' 'V']\n",
      "ft_19_categ----['2' '1']\n",
      "ft_21_categ----['4' '2' '1' '3']\n",
      "ft_23_categ----['0.0' '0.3' '0.6' '1.0' '2.0' '1.5']\n",
      "ft_24_categ----['   2' '   .' '   4' '   3' '   5' '   8' '>=10' '   1' '   6' '   7'\n",
      " '   9']\n",
      "decennie-------['2010' '1980' '1970' '1960' '1930' '1950' '1940' '1990' '2000' '1920'\n",
      " '1910' '1900' '1870' '1890' '1850' '1800' '1880' '1830' '1610' '1700'\n",
      " '1750' '1820' '1810' '1840' '1860' '1600' '1550' '1780' '1710' '1540']\n"
     ]
    }
   ],
   "source": [
    "# Analyse des variables qualitatives anonymes, avec affichage des valeurs possibles\n",
    "\n",
    "for col in df.select_dtypes('object').drop(['Insee'],axis=1):\n",
    "    print(f'{col:-<15}{df[col].unique()}')"
   ]
  },
  {
   "cell_type": "code",
   "execution_count": 149,
   "id": "9bf61ff3",
   "metadata": {
    "scrolled": false
   },
   "outputs": [
    {
     "data": {
      "image/png": "[encoded data removed]",
      "text/plain": [
       "<Figure size 1080x1080 with 20 Axes>"
      ]
     },
     "metadata": {
      "needs_background": "light"
     },
     "output_type": "display_data"
    }
   ],
   "source": [
    "# Analyse des variables qualitatives anonymes, avec répartition des valeurs possibles\n",
    "\n",
    "plt.figure(figsize=(15,15))\n",
    "count=1\n",
    "for col in df.select_dtypes('object').drop(['Insee'],axis=1):\n",
    "    df[col].value_counts().plot.pie()\n",
    "    plt.subplot(4,6,count)\n",
    "    count+=1"
   ]
  },
  {
   "cell_type": "markdown",
   "id": "3f807505",
   "metadata": {},
   "source": [
    "# #3"
   ]
  },
  {
   "cell_type": "code",
   "execution_count": 150,
   "id": "383f1823",
   "metadata": {},
   "outputs": [
    {
     "data": {
      "image/png": "[encoded data removed]",
      "text/plain": [
       "<Figure size 1080x2160 with 21 Axes>"
      ]
     },
     "metadata": {
      "needs_background": "light"
     },
     "output_type": "display_data"
    },
    {
     "data": {
      "text/plain": [
       "<Figure size 432x288 with 0 Axes>"
      ]
     },
     "metadata": {},
     "output_type": "display_data"
    }
   ],
   "source": [
    "# heatmap entre ft_6 et certaine variables, selection faites aussi à partir de notre exploration préalable des \n",
    "# données \n",
    "\n",
    "ft_columns=df.iloc[:,2:25].drop(['EXPO','superficief','ft_4_categ','ft_5_categ','ft_7_categ',\n",
    "                                'ft_6_categ','ft_17_categ','ft_21_categ'\n",
    "                                ,'ft_23_categ','Insee','decennie'],axis=1)\n",
    "\n",
    "plt.figure(figsize=(15,30))\n",
    "count=1\n",
    "for col in ft_columns:\n",
    "  #  plt.figure()\n",
    "    sns.heatmap(pd.crosstab(df['ft_6_categ'],df[col]),annot=True,fmt='d', cmap=\"YlGnBu\")\n",
    "    plt.subplot(8,3,count)\n",
    "    plt.subplots_adjust(hspace=0.8, wspace=0.8)\n",
    "    count+=1\n",
    "plt.figure();"
   ]
  },
  {
   "cell_type": "markdown",
   "id": "9ac6ed26",
   "metadata": {},
   "source": [
    "**Synthèse de relations entre certaines variables, mettant en évidence des groupes au sein des enregistrements**\n",
    "\n",
    "- Il semble que les variables ft_6 et ft_8 à ft_16 prennent pour 4416 enregistrements, soit près de la moitié de l'effectif,  la même valeur 'V'\n",
    "- D'autre part, ces 4416 enregistrements correspondent à l'occurence '.' de la variable FT_24\n",
    "- Ce groupe apparement homogène de 4416 enregistrements semble s'opposer à d'autres groupes moins homogènes"
   ]
  },
  {
   "cell_type": "markdown",
   "id": "a7c24ec1",
   "metadata": {},
   "source": [
    "# #4"
   ]
  },
  {
   "cell_type": "code",
   "execution_count": 151,
   "id": "801a00e7",
   "metadata": {},
   "outputs": [
    {
     "data": {
      "image/png": "[encoded data removed]",
      "text/plain": [
       "<Figure size 1440x1080 with 1 Axes>"
      ]
     },
     "metadata": {
      "needs_background": "light"
     },
     "output_type": "display_data"
    }
   ],
   "source": [
    "# validation de l'hypothèse Métier/Assurance de lien entre sinistralité et la variable qui pourrait etre l'étage (ft_24)\n",
    "\n",
    "# transformation pour faciliter la lecture de la relation entre ft_24 et target\n",
    "\n",
    "df.ft_24_categ = df.ft_24_categ.replace({'   .' : '0', '>=10' : '10'})\n",
    "df.ft_24_categ = df.ft_24_categ.astype(int)\n",
    "\n",
    "# distribution de cette variable ft_24 et ventilation suivant la valeur de la Target\n",
    "\n",
    "fig=plt.figure(figsize=(20,15))\n",
    "sns.countplot(data=df, x='ft_24_categ', hue='target')\n",
    "plt.title('Sinistrabilité en fonction de la ft_24_categ');"
   ]
  },
  {
   "cell_type": "code",
   "execution_count": 152,
   "id": "f60c2638",
   "metadata": {},
   "outputs": [
    {
     "data": {
      "text/html": [
       "<div>\n",
       "<style scoped>\n",
       "    .dataframe tbody tr th:only-of-type {\n",
       "        vertical-align: middle;\n",
       "    }\n",
       "\n",
       "    .dataframe tbody tr th {\n",
       "        vertical-align: top;\n",
       "    }\n",
       "\n",
       "    .dataframe thead th {\n",
       "        text-align: right;\n",
       "    }\n",
       "</style>\n",
       "<table border=\"1\" class=\"dataframe\">\n",
       "  <thead>\n",
       "    <tr style=\"text-align: right;\">\n",
       "      <th>target</th>\n",
       "      <th>0</th>\n",
       "      <th>1</th>\n",
       "    </tr>\n",
       "    <tr>\n",
       "      <th>ft_24_categ</th>\n",
       "      <th></th>\n",
       "      <th></th>\n",
       "    </tr>\n",
       "  </thead>\n",
       "  <tbody>\n",
       "    <tr>\n",
       "      <th>0</th>\n",
       "      <td>0.79</td>\n",
       "      <td>0.21</td>\n",
       "    </tr>\n",
       "    <tr>\n",
       "      <th>1</th>\n",
       "      <td>0.91</td>\n",
       "      <td>0.09</td>\n",
       "    </tr>\n",
       "    <tr>\n",
       "      <th>2</th>\n",
       "      <td>0.88</td>\n",
       "      <td>0.12</td>\n",
       "    </tr>\n",
       "    <tr>\n",
       "      <th>3</th>\n",
       "      <td>0.84</td>\n",
       "      <td>0.16</td>\n",
       "    </tr>\n",
       "    <tr>\n",
       "      <th>4</th>\n",
       "      <td>0.77</td>\n",
       "      <td>0.23</td>\n",
       "    </tr>\n",
       "    <tr>\n",
       "      <th>5</th>\n",
       "      <td>0.70</td>\n",
       "      <td>0.30</td>\n",
       "    </tr>\n",
       "    <tr>\n",
       "      <th>6</th>\n",
       "      <td>0.64</td>\n",
       "      <td>0.36</td>\n",
       "    </tr>\n",
       "    <tr>\n",
       "      <th>7</th>\n",
       "      <td>0.59</td>\n",
       "      <td>0.41</td>\n",
       "    </tr>\n",
       "    <tr>\n",
       "      <th>8</th>\n",
       "      <td>0.55</td>\n",
       "      <td>0.45</td>\n",
       "    </tr>\n",
       "    <tr>\n",
       "      <th>9</th>\n",
       "      <td>0.47</td>\n",
       "      <td>0.53</td>\n",
       "    </tr>\n",
       "    <tr>\n",
       "      <th>10</th>\n",
       "      <td>0.47</td>\n",
       "      <td>0.53</td>\n",
       "    </tr>\n",
       "  </tbody>\n",
       "</table>\n",
       "</div>"
      ],
      "text/plain": [
       "target          0     1\n",
       "ft_24_categ            \n",
       "0            0.79  0.21\n",
       "1            0.91  0.09\n",
       "2            0.88  0.12\n",
       "3            0.84  0.16\n",
       "4            0.77  0.23\n",
       "5            0.70  0.30\n",
       "6            0.64  0.36\n",
       "7            0.59  0.41\n",
       "8            0.55  0.45\n",
       "9            0.47  0.53\n",
       "10           0.47  0.53"
      ]
     },
     "execution_count": 152,
     "metadata": {},
     "output_type": "execute_result"
    }
   ],
   "source": [
    "# confirmation plus quantitative de la relation \"proportionnelle\" entre ft_24 et Target\n",
    "\n",
    "pd.crosstab(df['ft_24_categ'], df['target'], normalize='index').round(2)"
   ]
  },
  {
   "cell_type": "code",
   "execution_count": 153,
   "id": "778c84be",
   "metadata": {},
   "outputs": [
    {
     "data": {
      "image/png": "[encoded data removed]",
      "text/plain": [
       "<Figure size 1080x648 with 1 Axes>"
      ]
     },
     "metadata": {
      "needs_background": "light"
     },
     "output_type": "display_data"
    }
   ],
   "source": [
    "# validation de l'hypothèse Métier/Assurance de lien entre sinistralité et superficie\n",
    "# avec une transformation pour faciliter la lecture de la relation entre superficie et target, par la création de quantiles\n",
    "\n",
    "df['quantile_10'] = pd.qcut(df['superficief'], q=10, precision=0)\n",
    "\n",
    "fig=plt.figure(figsize=(15,9))\n",
    "sns.countplot(data=df, x='quantile_10', hue='target')\n",
    "plt.title('Sinistrabilité en fonction de la surface');"
   ]
  },
  {
   "cell_type": "code",
   "execution_count": 154,
   "id": "bfbf4aea",
   "metadata": {
    "scrolled": true
   },
   "outputs": [
    {
     "data": {
      "text/html": [
       "<div>\n",
       "<style scoped>\n",
       "    .dataframe tbody tr th:only-of-type {\n",
       "        vertical-align: middle;\n",
       "    }\n",
       "\n",
       "    .dataframe tbody tr th {\n",
       "        vertical-align: top;\n",
       "    }\n",
       "\n",
       "    .dataframe thead th {\n",
       "        text-align: right;\n",
       "    }\n",
       "</style>\n",
       "<table border=\"1\" class=\"dataframe\">\n",
       "  <thead>\n",
       "    <tr style=\"text-align: right;\">\n",
       "      <th>target</th>\n",
       "      <th>0</th>\n",
       "      <th>1</th>\n",
       "    </tr>\n",
       "    <tr>\n",
       "      <th>quantile_10</th>\n",
       "      <th></th>\n",
       "      <th></th>\n",
       "    </tr>\n",
       "  </thead>\n",
       "  <tbody>\n",
       "    <tr>\n",
       "      <th>(0.0, 330.0]</th>\n",
       "      <td>0.91</td>\n",
       "      <td>0.09</td>\n",
       "    </tr>\n",
       "    <tr>\n",
       "      <th>(330.0, 459.0]</th>\n",
       "      <td>0.90</td>\n",
       "      <td>0.10</td>\n",
       "    </tr>\n",
       "    <tr>\n",
       "      <th>(459.0, 609.0]</th>\n",
       "      <td>0.88</td>\n",
       "      <td>0.12</td>\n",
       "    </tr>\n",
       "    <tr>\n",
       "      <th>(609.0, 800.0]</th>\n",
       "      <td>0.84</td>\n",
       "      <td>0.16</td>\n",
       "    </tr>\n",
       "    <tr>\n",
       "      <th>(800.0, 1080.0]</th>\n",
       "      <td>0.83</td>\n",
       "      <td>0.17</td>\n",
       "    </tr>\n",
       "    <tr>\n",
       "      <th>(1080.0, 1441.0]</th>\n",
       "      <td>0.77</td>\n",
       "      <td>0.23</td>\n",
       "    </tr>\n",
       "    <tr>\n",
       "      <th>(1441.0, 1985.0]</th>\n",
       "      <td>0.75</td>\n",
       "      <td>0.25</td>\n",
       "    </tr>\n",
       "    <tr>\n",
       "      <th>(1985.0, 2777.0]</th>\n",
       "      <td>0.76</td>\n",
       "      <td>0.24</td>\n",
       "    </tr>\n",
       "    <tr>\n",
       "      <th>(2777.0, 4375.0]</th>\n",
       "      <td>0.61</td>\n",
       "      <td>0.39</td>\n",
       "    </tr>\n",
       "    <tr>\n",
       "      <th>(4375.0, 30745.0]</th>\n",
       "      <td>0.47</td>\n",
       "      <td>0.53</td>\n",
       "    </tr>\n",
       "  </tbody>\n",
       "</table>\n",
       "</div>"
      ],
      "text/plain": [
       "target                0     1\n",
       "quantile_10                  \n",
       "(0.0, 330.0]       0.91  0.09\n",
       "(330.0, 459.0]     0.90  0.10\n",
       "(459.0, 609.0]     0.88  0.12\n",
       "(609.0, 800.0]     0.84  0.16\n",
       "(800.0, 1080.0]    0.83  0.17\n",
       "(1080.0, 1441.0]   0.77  0.23\n",
       "(1441.0, 1985.0]   0.75  0.25\n",
       "(1985.0, 2777.0]   0.76  0.24\n",
       "(2777.0, 4375.0]   0.61  0.39\n",
       "(4375.0, 30745.0]  0.47  0.53"
      ]
     },
     "execution_count": 154,
     "metadata": {},
     "output_type": "execute_result"
    }
   ],
   "source": [
    "# confirmation plus quantitative de la relation \"proportionnelle\" entre superficie et Target\n",
    "\n",
    "pd.crosstab(df['quantile_10'], df['target'], normalize='index').round(2)"
   ]
  },
  {
   "cell_type": "markdown",
   "id": "93bec2ab",
   "metadata": {},
   "source": [
    "**Test de chi2 pour confirmer l'approche graphique**"
   ]
  },
  {
   "cell_type": "code",
   "execution_count": 155,
   "id": "2b0ac1c1",
   "metadata": {},
   "outputs": [
    {
     "name": "stdout",
     "output_type": "stream",
     "text": [
      "valeur de la p_value est :  1.194331993622861e-58\n",
      "valeur du V de Cramer est :  0.181\n"
     ]
    }
   ],
   "source": [
    "# contingence entre target et ft_24 supposée le nombre de fenetres / étages du batiment\n",
    "\n",
    "table=pd.crosstab(df['target'],df['ft_24_categ'])\n",
    "\n",
    "from scipy.stats import chi2_contingency\n",
    "resultats_test = chi2_contingency(table)\n",
    "p_valeur = resultats_test[1]\n",
    "\n",
    "def V_Cramer (table,N):\n",
    "    stat_chi2 = chi2_contingency(table)[0]\n",
    "    k = table.shape[0]\n",
    "    r = table.shape[1]\n",
    "    phi = max(0,(stat_chi2/N)-((k-1)*(r-1)/(N-1)))\n",
    "    k_corr = k - (np.square(k-1)/(N-1))\n",
    "    r_corr = r - (np.square(r-1)/(N-1))\n",
    "    return np.sqrt(phi/min(k_corr - 1,r_corr - 1))\n",
    "\n",
    "print (\"valeur de la p_value est : \", p_valeur)\n",
    "print (\"valeur du V de Cramer est : \", V_Cramer(table,df.shape[0]).round(3))"
   ]
  },
  {
   "cell_type": "code",
   "execution_count": 156,
   "id": "f2aa27a3",
   "metadata": {},
   "outputs": [
    {
     "name": "stdout",
     "output_type": "stream",
     "text": [
      "valeur de la p_value est :  3.2206623729699385e-179\n",
      "valeur du V de Cramer est :  0.31\n"
     ]
    }
   ],
   "source": [
    "# contingence entre target et ft_24 supposée nombre d'étages\n",
    "table=pd.crosstab(df['target'],df['quantile_10'])\n",
    "\n",
    "from scipy.stats import chi2_contingency\n",
    "resultats_test = chi2_contingency(table)\n",
    "p_valeur = resultats_test[1]\n",
    "\n",
    "def V_Cramer (table,N):\n",
    "    stat_chi2 = chi2_contingency(table)[0]\n",
    "    k = table.shape[0]\n",
    "    r = table.shape[1]\n",
    "    phi = max(0,(stat_chi2/N)-((k-1)*(r-1)/(N-1)))\n",
    "    k_corr = k - (np.square(k-1)/(N-1))\n",
    "    r_corr = r - (np.square(r-1)/(N-1))\n",
    "    return np.sqrt(phi/min(k_corr - 1,r_corr - 1))\n",
    "\n",
    "print (\"valeur de la p_value est : \", p_valeur)\n",
    "print (\"valeur du V de Cramer est : \", V_Cramer(table,df.shape[0]).round(3))"
   ]
  },
  {
   "cell_type": "markdown",
   "id": "8f9c9bb8",
   "metadata": {},
   "source": [
    "**L'approche graphique de relation entre target et les variables ft_24 et la superficie (approchée par le regroupement en classe de quantile) est donc confirmée par les tests de Chi-2**"
   ]
  },
  {
   "cell_type": "markdown",
   "id": "1c3d06ac",
   "metadata": {},
   "source": [
    "**Enfin , une dernière étape de mise en bonne forme des données**\n",
    "\n",
    "- Conversion des \"fausses\" numériques en catégorielles : FT_24 \n",
    "- Suppression de quantile_10, nous n'utiliserons que superficief"
   ]
  },
  {
   "cell_type": "code",
   "execution_count": 157,
   "id": "2aeff43f",
   "metadata": {},
   "outputs": [],
   "source": [
    "df[['ft_24_categ']]= df[['ft_24_categ']].astype(str)"
   ]
  },
  {
   "cell_type": "code",
   "execution_count": 158,
   "id": "17b3266d",
   "metadata": {},
   "outputs": [],
   "source": [
    "# sauvegarde du dataframe avant manipulations\n",
    "\n",
    "df_init=df"
   ]
  },
  {
   "cell_type": "markdown",
   "id": "ecee5665",
   "metadata": {},
   "source": [
    "# *Quatrième étape - Le pre processing*\n",
    "\n",
    "- Séparation features/target\n",
    "- Encodage des catégorielles\n",
    "- Création Train/Test\n",
    "- Standardisation\n"
   ]
  },
  {
   "cell_type": "code",
   "execution_count": 16,
   "id": "d080757f",
   "metadata": {},
   "outputs": [],
   "source": [
    "# séparation features/target, en éliminant Insee avant encodage des categorielles\n",
    "\n",
    "data=df.drop(['target','Insee'], axis=1)\n",
    "target=df['target']"
   ]
  },
  {
   "cell_type": "code",
   "execution_count": 17,
   "id": "a5935941",
   "metadata": {},
   "outputs": [],
   "source": [
    "# encodage des catégorielles\n",
    "\n",
    "data_dum=pd.get_dummies(data)\n"
   ]
  },
  {
   "cell_type": "code",
   "execution_count": 18,
   "id": "372de3f8",
   "metadata": {},
   "outputs": [],
   "source": [
    "# création des train et test sets\n",
    "from sklearn.model_selection import train_test_split\n",
    "X_train, X_test, y_train, y_test=train_test_split(data_dum, target, test_size=0.2, random_state=121)"
   ]
  },
  {
   "cell_type": "code",
   "execution_count": 19,
   "id": "96de7f56",
   "metadata": {},
   "outputs": [
    {
     "name": "stdout",
     "output_type": "stream",
     "text": [
      "Train case proportion: 22.69%\n",
      "Test case proportion:  24.12%\n",
      "Difference entre test et train sets: 1.43%\n"
     ]
    }
   ],
   "source": [
    "#vérification de la dimension du train set\n",
    "proportion_train = round(len(y_train[y_train == 1])/len(y_train)*100, 2)\n",
    "proportion_test = round(len(y_test[y_test == 1])/len(y_test)*100, 2)\n",
    "print('Train case proportion: {}%'.format(proportion_train))\n",
    "print('Test case proportion:  {}%'.format(proportion_test))\n",
    "print('Difference entre test et train sets: {}%'.format(round(np.abs(proportion_train - proportion_test), 2)))\n"
   ]
  },
  {
   "cell_type": "code",
   "execution_count": 20,
   "id": "eb40e9e7",
   "metadata": {},
   "outputs": [
    {
     "name": "stderr",
     "output_type": "stream",
     "text": [
      "C:\\Users\\Maxime\\anaconda3\\envs\\geo\\lib\\site-packages\\ipykernel_launcher.py:5: SettingWithCopyWarning: \n",
      "A value is trying to be set on a copy of a slice from a DataFrame.\n",
      "Try using .loc[row_indexer,col_indexer] = value instead\n",
      "\n",
      "See the caveats in the documentation: https://pandas.pydata.org/pandas-docs/stable/user_guide/indexing.html#returning-a-view-versus-a-copy\n",
      "  \"\"\"\n",
      "C:\\Users\\Maxime\\anaconda3\\envs\\geo\\lib\\site-packages\\pandas\\core\\indexing.py:1738: SettingWithCopyWarning: \n",
      "A value is trying to be set on a copy of a slice from a DataFrame.\n",
      "Try using .loc[row_indexer,col_indexer] = value instead\n",
      "\n",
      "See the caveats in the documentation: https://pandas.pydata.org/pandas-docs/stable/user_guide/indexing.html#returning-a-view-versus-a-copy\n",
      "  self._setitem_single_column(loc, value[:, i].tolist(), pi)\n",
      "C:\\Users\\Maxime\\anaconda3\\envs\\geo\\lib\\site-packages\\ipykernel_launcher.py:6: SettingWithCopyWarning: \n",
      "A value is trying to be set on a copy of a slice from a DataFrame.\n",
      "Try using .loc[row_indexer,col_indexer] = value instead\n",
      "\n",
      "See the caveats in the documentation: https://pandas.pydata.org/pandas-docs/stable/user_guide/indexing.html#returning-a-view-versus-a-copy\n",
      "  \n",
      "C:\\Users\\Maxime\\anaconda3\\envs\\geo\\lib\\site-packages\\pandas\\core\\indexing.py:1738: SettingWithCopyWarning: \n",
      "A value is trying to be set on a copy of a slice from a DataFrame.\n",
      "Try using .loc[row_indexer,col_indexer] = value instead\n",
      "\n",
      "See the caveats in the documentation: https://pandas.pydata.org/pandas-docs/stable/user_guide/indexing.html#returning-a-view-versus-a-copy\n",
      "  self._setitem_single_column(loc, value[:, i].tolist(), pi)\n"
     ]
    }
   ],
   "source": [
    "# standardization de superficief par robust scaler, pour son insensibilité aux valeurs extrèmes (superficie)\n",
    "from sklearn.preprocessing import StandardScaler\n",
    "cols = ['superficief']\n",
    "sc = StandardScaler()\n",
    "X_train[cols]=sc.fit_transform(X_train[cols])\n",
    "X_test[cols]=sc.transform(X_test[cols])\n"
   ]
  },
  {
   "cell_type": "markdown",
   "id": "b11513a4",
   "metadata": {},
   "source": [
    "# *Cinquième étape - La première modélisation*\n",
    "\n",
    "- Explorer un premier **modèle basique**\n",
    "- Sans recherche d'optimisation\n",
    "- Pour obtenir la **performance plancher** à dépasser"
   ]
  },
  {
   "cell_type": "markdown",
   "id": "08741fe9",
   "metadata": {},
   "source": [
    "# # Premier modèle : RFC"
   ]
  },
  {
   "cell_type": "code",
   "execution_count": 21,
   "id": "3baa65e5",
   "metadata": {},
   "outputs": [
    {
     "name": "stdout",
     "output_type": "stream",
     "text": [
      "L'exactitude est : 0.738\n"
     ]
    },
    {
     "data": {
      "text/html": [
       "<div>\n",
       "<style scoped>\n",
       "    .dataframe tbody tr th:only-of-type {\n",
       "        vertical-align: middle;\n",
       "    }\n",
       "\n",
       "    .dataframe tbody tr th {\n",
       "        vertical-align: top;\n",
       "    }\n",
       "\n",
       "    .dataframe thead th {\n",
       "        text-align: right;\n",
       "    }\n",
       "</style>\n",
       "<table border=\"1\" class=\"dataframe\">\n",
       "  <thead>\n",
       "    <tr style=\"text-align: right;\">\n",
       "      <th>predites</th>\n",
       "      <th>0</th>\n",
       "      <th>1</th>\n",
       "    </tr>\n",
       "    <tr>\n",
       "      <th>réelle</th>\n",
       "      <th></th>\n",
       "      <th></th>\n",
       "    </tr>\n",
       "  </thead>\n",
       "  <tbody>\n",
       "    <tr>\n",
       "      <th>0</th>\n",
       "      <td>1213</td>\n",
       "      <td>130</td>\n",
       "    </tr>\n",
       "    <tr>\n",
       "      <th>1</th>\n",
       "      <td>333</td>\n",
       "      <td>94</td>\n",
       "    </tr>\n",
       "  </tbody>\n",
       "</table>\n",
       "</div>"
      ],
      "text/plain": [
       "predites     0    1\n",
       "réelle             \n",
       "0         1213  130\n",
       "1          333   94"
      ]
     },
     "execution_count": 21,
     "metadata": {},
     "output_type": "execute_result"
    }
   ],
   "source": [
    "# performance de base\n",
    "\n",
    "from sklearn.ensemble import RandomForestClassifier\n",
    "model=RandomForestClassifier(random_state=121, class_weight={0:1,1:2.33})\n",
    "model.fit(X_train, y_train)\n",
    "print(\"L'exactitude est :\", model.score(X_test, y_test).round(3))\n",
    "\n",
    "y_pred=model.predict(X_test)\n",
    "pd.crosstab(y_test, y_pred, rownames=['réelle'], colnames=['predites'])\n"
   ]
  },
  {
   "cell_type": "code",
   "execution_count": 22,
   "id": "8f248c11",
   "metadata": {},
   "outputs": [
    {
     "name": "stdout",
     "output_type": "stream",
     "text": [
      "              precision    recall  f1-score   support\n",
      "\n",
      "           0       0.78      0.90      0.84      1343\n",
      "           1       0.42      0.22      0.29       427\n",
      "\n",
      "    accuracy                           0.74      1770\n",
      "   macro avg       0.60      0.56      0.56      1770\n",
      "weighted avg       0.70      0.74      0.71      1770\n",
      "\n"
     ]
    }
   ],
   "source": [
    "from sklearn.metrics import f1_score,confusion_matrix, classification_report\n",
    "\n",
    "print(classification_report(y_test,y_pred))\n"
   ]
  },
  {
   "cell_type": "markdown",
   "id": "80d78cba",
   "metadata": {},
   "source": [
    "Notre dataset étant déséquilbré avec une repartition 77/23 de target, ce modéle ayant une exactitude de 75,3 ne nous apporte rien\n",
    "\n",
    "Les metriques sur la classe 0 sont très bonnes et très mauvaises sur la classe 1.\n",
    "\n",
    "La précision est mauvaise à 48%, le rappel est faible 25%, F1 et moyenne geométrique faibles.\n"
   ]
  },
  {
   "cell_type": "markdown",
   "id": "123d81ab",
   "metadata": {},
   "source": [
    "# # Deuxième modèle : DTC"
   ]
  },
  {
   "cell_type": "code",
   "execution_count": 23,
   "id": "51af65b1",
   "metadata": {
    "scrolled": false
   },
   "outputs": [
    {
     "name": "stdout",
     "output_type": "stream",
     "text": [
      "L'exactitude est : 0.684\n"
     ]
    },
    {
     "data": {
      "text/html": [
       "<div>\n",
       "<style scoped>\n",
       "    .dataframe tbody tr th:only-of-type {\n",
       "        vertical-align: middle;\n",
       "    }\n",
       "\n",
       "    .dataframe tbody tr th {\n",
       "        vertical-align: top;\n",
       "    }\n",
       "\n",
       "    .dataframe thead th {\n",
       "        text-align: right;\n",
       "    }\n",
       "</style>\n",
       "<table border=\"1\" class=\"dataframe\">\n",
       "  <thead>\n",
       "    <tr style=\"text-align: right;\">\n",
       "      <th>predites</th>\n",
       "      <th>0</th>\n",
       "      <th>1</th>\n",
       "    </tr>\n",
       "    <tr>\n",
       "      <th>réelle</th>\n",
       "      <th></th>\n",
       "      <th></th>\n",
       "    </tr>\n",
       "  </thead>\n",
       "  <tbody>\n",
       "    <tr>\n",
       "      <th>0</th>\n",
       "      <td>1060</td>\n",
       "      <td>283</td>\n",
       "    </tr>\n",
       "    <tr>\n",
       "      <th>1</th>\n",
       "      <td>277</td>\n",
       "      <td>150</td>\n",
       "    </tr>\n",
       "  </tbody>\n",
       "</table>\n",
       "</div>"
      ],
      "text/plain": [
       "predites     0    1\n",
       "réelle             \n",
       "0         1060  283\n",
       "1          277  150"
      ]
     },
     "execution_count": 23,
     "metadata": {},
     "output_type": "execute_result"
    }
   ],
   "source": [
    "from sklearn.tree import DecisionTreeClassifier\n",
    "\n",
    "model = DecisionTreeClassifier(random_state=121, class_weight={0:1,1:2.33})\n",
    "\n",
    "model.fit(X_train, y_train)\n",
    "\n",
    "print(\"L'exactitude est :\", model.score(X_test, y_test).round(3))\n",
    "\n",
    "y_pred=model.predict(X_test)\n",
    "pd.crosstab(y_test, y_pred, rownames=['réelle'], colnames=['predites'])\n"
   ]
  },
  {
   "cell_type": "code",
   "execution_count": 24,
   "id": "974acb01",
   "metadata": {},
   "outputs": [
    {
     "name": "stdout",
     "output_type": "stream",
     "text": [
      "              precision    recall  f1-score   support\n",
      "\n",
      "           0       0.79      0.79      0.79      1343\n",
      "           1       0.35      0.35      0.35       427\n",
      "\n",
      "    accuracy                           0.68      1770\n",
      "   macro avg       0.57      0.57      0.57      1770\n",
      "weighted avg       0.69      0.68      0.68      1770\n",
      "\n"
     ]
    }
   ],
   "source": [
    "print(classification_report(y_test,y_pred))\n"
   ]
  },
  {
   "cell_type": "code",
   "execution_count": 28,
   "id": "062dc955",
   "metadata": {
    "scrolled": true
   },
   "outputs": [
    {
     "data": {
      "image/png": "[encoded data removed]",
      "text/plain": [
       "<Figure size 1440x1440 with 1 Axes>"
      ]
     },
     "metadata": {
      "needs_background": "light"
     },
     "output_type": "display_data"
    }
   ],
   "source": [
    "# réprésentation graphique ordonnée de l'importance des variabales\n",
    "\n",
    "poids =pd.DataFrame(model.feature_importances_,X_train.columns, columns=['poids'])\n",
    "poids.sort_values(by='poids', ascending=True).plot.barh(figsize=(20,20));\n"
   ]
  },
  {
   "cell_type": "markdown",
   "id": "62654b6e",
   "metadata": {},
   "source": [
    "# # Troisième modèle : SVM"
   ]
  },
  {
   "cell_type": "code",
   "execution_count": 169,
   "id": "01d6e5cc",
   "metadata": {},
   "outputs": [
    {
     "name": "stdout",
     "output_type": "stream",
     "text": [
      "L'exactitude est : 0.76\n"
     ]
    },
    {
     "data": {
      "text/html": [
       "<div>\n",
       "<style scoped>\n",
       "    .dataframe tbody tr th:only-of-type {\n",
       "        vertical-align: middle;\n",
       "    }\n",
       "\n",
       "    .dataframe tbody tr th {\n",
       "        vertical-align: top;\n",
       "    }\n",
       "\n",
       "    .dataframe thead th {\n",
       "        text-align: right;\n",
       "    }\n",
       "</style>\n",
       "<table border=\"1\" class=\"dataframe\">\n",
       "  <thead>\n",
       "    <tr style=\"text-align: right;\">\n",
       "      <th>predites</th>\n",
       "      <th>0</th>\n",
       "      <th>1</th>\n",
       "    </tr>\n",
       "    <tr>\n",
       "      <th>réelle</th>\n",
       "      <th></th>\n",
       "      <th></th>\n",
       "    </tr>\n",
       "  </thead>\n",
       "  <tbody>\n",
       "    <tr>\n",
       "      <th>0</th>\n",
       "      <td>1153</td>\n",
       "      <td>190</td>\n",
       "    </tr>\n",
       "    <tr>\n",
       "      <th>1</th>\n",
       "      <td>234</td>\n",
       "      <td>193</td>\n",
       "    </tr>\n",
       "  </tbody>\n",
       "</table>\n",
       "</div>"
      ],
      "text/plain": [
       "predites     0    1\n",
       "réelle             \n",
       "0         1153  190\n",
       "1          234  193"
      ]
     },
     "execution_count": 169,
     "metadata": {},
     "output_type": "execute_result"
    }
   ],
   "source": [
    "# performance de base\n",
    "from sklearn.svm import SVC\n",
    "\n",
    "model=SVC(random_state=121, class_weight={0:1,1:2.33})\n",
    "\n",
    "model.fit(X_train, y_train)\n",
    "\n",
    "print(\"L'exactitude est :\", model.score(X_test, y_test).round(3))\n",
    "\n",
    "y_pred=model.predict(X_test)\n",
    "pd.crosstab(y_test, y_pred, rownames=['réelle'], colnames=['predites'])\n"
   ]
  },
  {
   "cell_type": "code",
   "execution_count": 170,
   "id": "420c7e4f",
   "metadata": {
    "scrolled": true
   },
   "outputs": [
    {
     "name": "stdout",
     "output_type": "stream",
     "text": [
      "              precision    recall  f1-score   support\n",
      "\n",
      "           0       0.83      0.86      0.84      1343\n",
      "           1       0.50      0.45      0.48       427\n",
      "\n",
      "    accuracy                           0.76      1770\n",
      "   macro avg       0.67      0.66      0.66      1770\n",
      "weighted avg       0.75      0.76      0.76      1770\n",
      "\n"
     ]
    }
   ],
   "source": [
    "\n",
    "print(classification_report(y_test,y_pred))\n"
   ]
  },
  {
   "cell_type": "markdown",
   "id": "8678deab",
   "metadata": {},
   "source": [
    "# # Quatrième modèle : XGBoost"
   ]
  },
  {
   "cell_type": "code",
   "execution_count": 171,
   "id": "3e96280e",
   "metadata": {},
   "outputs": [],
   "source": [
    "from sklearn.ensemble import GradientBoostingClassifier"
   ]
  },
  {
   "cell_type": "code",
   "execution_count": 172,
   "id": "4f684f12",
   "metadata": {},
   "outputs": [
    {
     "name": "stdout",
     "output_type": "stream",
     "text": [
      "L'exactitude est : 0.78\n"
     ]
    },
    {
     "data": {
      "text/html": [
       "<div>\n",
       "<style scoped>\n",
       "    .dataframe tbody tr th:only-of-type {\n",
       "        vertical-align: middle;\n",
       "    }\n",
       "\n",
       "    .dataframe tbody tr th {\n",
       "        vertical-align: top;\n",
       "    }\n",
       "\n",
       "    .dataframe thead th {\n",
       "        text-align: right;\n",
       "    }\n",
       "</style>\n",
       "<table border=\"1\" class=\"dataframe\">\n",
       "  <thead>\n",
       "    <tr style=\"text-align: right;\">\n",
       "      <th>predites</th>\n",
       "      <th>0</th>\n",
       "      <th>1</th>\n",
       "    </tr>\n",
       "    <tr>\n",
       "      <th>réelle</th>\n",
       "      <th></th>\n",
       "      <th></th>\n",
       "    </tr>\n",
       "  </thead>\n",
       "  <tbody>\n",
       "    <tr>\n",
       "      <th>0</th>\n",
       "      <td>1296</td>\n",
       "      <td>47</td>\n",
       "    </tr>\n",
       "    <tr>\n",
       "      <th>1</th>\n",
       "      <td>342</td>\n",
       "      <td>85</td>\n",
       "    </tr>\n",
       "  </tbody>\n",
       "</table>\n",
       "</div>"
      ],
      "text/plain": [
       "predites     0   1\n",
       "réelle            \n",
       "0         1296  47\n",
       "1          342  85"
      ]
     },
     "execution_count": 172,
     "metadata": {},
     "output_type": "execute_result"
    }
   ],
   "source": [
    "model=GradientBoostingClassifier(random_state=123)\n",
    "\n",
    "model.fit(X_train, y_train)\n",
    "\n",
    "print(\"L'exactitude est :\", model.score(X_test, y_test).round(3))\n",
    "\n",
    "y_pred=model.predict(X_test)\n",
    "pd.crosstab(y_test, y_pred, rownames=['réelle'], colnames=['predites'])\n"
   ]
  },
  {
   "cell_type": "code",
   "execution_count": 173,
   "id": "d44c9369",
   "metadata": {},
   "outputs": [
    {
     "name": "stdout",
     "output_type": "stream",
     "text": [
      "              precision    recall  f1-score   support\n",
      "\n",
      "           0       0.79      0.97      0.87      1343\n",
      "           1       0.64      0.20      0.30       427\n",
      "\n",
      "    accuracy                           0.78      1770\n",
      "   macro avg       0.72      0.58      0.59      1770\n",
      "weighted avg       0.76      0.78      0.73      1770\n",
      "\n"
     ]
    }
   ],
   "source": [
    "\n",
    "print(classification_report(y_test,y_pred))\n"
   ]
  },
  {
   "cell_type": "markdown",
   "id": "6d06971f",
   "metadata": {},
   "source": [
    "# # Cinquième modèle : LRC"
   ]
  },
  {
   "cell_type": "code",
   "execution_count": 174,
   "id": "801bfc5f",
   "metadata": {},
   "outputs": [
    {
     "name": "stdout",
     "output_type": "stream",
     "text": [
      "L'exactitude est : 0.75\n"
     ]
    },
    {
     "data": {
      "text/html": [
       "<div>\n",
       "<style scoped>\n",
       "    .dataframe tbody tr th:only-of-type {\n",
       "        vertical-align: middle;\n",
       "    }\n",
       "\n",
       "    .dataframe tbody tr th {\n",
       "        vertical-align: top;\n",
       "    }\n",
       "\n",
       "    .dataframe thead th {\n",
       "        text-align: right;\n",
       "    }\n",
       "</style>\n",
       "<table border=\"1\" class=\"dataframe\">\n",
       "  <thead>\n",
       "    <tr style=\"text-align: right;\">\n",
       "      <th>predites</th>\n",
       "      <th>0</th>\n",
       "      <th>1</th>\n",
       "    </tr>\n",
       "    <tr>\n",
       "      <th>réelle</th>\n",
       "      <th></th>\n",
       "      <th></th>\n",
       "    </tr>\n",
       "  </thead>\n",
       "  <tbody>\n",
       "    <tr>\n",
       "      <th>0</th>\n",
       "      <td>1127</td>\n",
       "      <td>216</td>\n",
       "    </tr>\n",
       "    <tr>\n",
       "      <th>1</th>\n",
       "      <td>226</td>\n",
       "      <td>201</td>\n",
       "    </tr>\n",
       "  </tbody>\n",
       "</table>\n",
       "</div>"
      ],
      "text/plain": [
       "predites     0    1\n",
       "réelle             \n",
       "0         1127  216\n",
       "1          226  201"
      ]
     },
     "execution_count": 174,
     "metadata": {},
     "output_type": "execute_result"
    }
   ],
   "source": [
    "from sklearn.linear_model import LogisticRegression\n",
    "\n",
    "model=LogisticRegression(max_iter=10000, random_state=121, class_weight={0:1,1:2.33})\n",
    "\n",
    "model.fit(X_train, y_train)\n",
    "\n",
    "print(\"L'exactitude est :\", model.score(X_test, y_test).round(3))\n",
    "\n",
    "y_pred=model.predict(X_test)\n",
    "pd.crosstab(y_test, y_pred, rownames=['réelle'], colnames=['predites'])\n"
   ]
  },
  {
   "cell_type": "code",
   "execution_count": 175,
   "id": "74f348a3",
   "metadata": {},
   "outputs": [
    {
     "name": "stdout",
     "output_type": "stream",
     "text": [
      "              precision    recall  f1-score   support\n",
      "\n",
      "           0       0.83      0.84      0.84      1343\n",
      "           1       0.48      0.47      0.48       427\n",
      "\n",
      "    accuracy                           0.75      1770\n",
      "   macro avg       0.66      0.65      0.66      1770\n",
      "weighted avg       0.75      0.75      0.75      1770\n",
      "\n"
     ]
    }
   ],
   "source": [
    "\n",
    "print(classification_report(y_test,y_pred))\n"
   ]
  },
  {
   "cell_type": "markdown",
   "id": "84b21660",
   "metadata": {},
   "source": [
    "**Le meilleur des modèles envisagé est donc :**\n",
    "- La classification par regression linéaire\n",
    "\n",
    "\n",
    "**Et nous allons maintenant faire un pre processing plus approfondi, puis optimiser les hyper parametres**"
   ]
  },
  {
   "cell_type": "markdown",
   "id": "6451fbf3",
   "metadata": {},
   "source": [
    "# Sixième étape - La modélisation finale \n",
    "- A partir du modèle considéré comme le meilleur précédemment, le LRC\n",
    "- Avec un préprocessing plus intégré\n",
    "- Avec un tuning des hyperparamètres"
   ]
  },
  {
   "cell_type": "code",
   "execution_count": 176,
   "id": "b9e480a6",
   "metadata": {},
   "outputs": [],
   "source": [
    "# re creation des ensembles d'entrainement et de test\n",
    "\n",
    "X_train2, X_test2, y_train2, y_test2=train_test_split(data, target, test_size=0.2, random_state=121)"
   ]
  },
  {
   "cell_type": "code",
   "execution_count": 177,
   "id": "2579d78c",
   "metadata": {},
   "outputs": [],
   "source": [
    "from sklearn.pipeline import make_pipeline\n",
    "from sklearn.preprocessing import RobustScaler, OneHotEncoder\n",
    "from sklearn.compose import make_column_transformer,make_column_selector \n",
    "from sklearn.model_selection import GridSearchCV"
   ]
  },
  {
   "cell_type": "code",
   "execution_count": 178,
   "id": "db33470a",
   "metadata": {},
   "outputs": [],
   "source": [
    "# séparation des numériques et des catégorielles\n",
    "\n",
    "numerical=make_column_selector(dtype_include=np.number)\n",
    "categorical=make_column_selector(dtype_exclude=np.number)"
   ]
  },
  {
   "cell_type": "code",
   "execution_count": 179,
   "id": "28f72177",
   "metadata": {},
   "outputs": [],
   "source": [
    "# définition des transformations sur variables\n",
    "\n",
    "preprocessor = make_column_transformer((RobustScaler(), numerical),(OneHotEncoder(handle_unknown='ignore'),\n",
    "                                                                    categorical))"
   ]
  },
  {
   "cell_type": "code",
   "execution_count": 180,
   "id": "3ca2fb3b",
   "metadata": {},
   "outputs": [
    {
     "name": "stdout",
     "output_type": "stream",
     "text": [
      "L'exactitude est : 0.75\n"
     ]
    },
    {
     "data": {
      "text/html": [
       "<div>\n",
       "<style scoped>\n",
       "    .dataframe tbody tr th:only-of-type {\n",
       "        vertical-align: middle;\n",
       "    }\n",
       "\n",
       "    .dataframe tbody tr th {\n",
       "        vertical-align: top;\n",
       "    }\n",
       "\n",
       "    .dataframe thead th {\n",
       "        text-align: right;\n",
       "    }\n",
       "</style>\n",
       "<table border=\"1\" class=\"dataframe\">\n",
       "  <thead>\n",
       "    <tr style=\"text-align: right;\">\n",
       "      <th>predites</th>\n",
       "      <th>0</th>\n",
       "      <th>1</th>\n",
       "    </tr>\n",
       "    <tr>\n",
       "      <th>réelle</th>\n",
       "      <th></th>\n",
       "      <th></th>\n",
       "    </tr>\n",
       "  </thead>\n",
       "  <tbody>\n",
       "    <tr>\n",
       "      <th>0</th>\n",
       "      <td>1127</td>\n",
       "      <td>216</td>\n",
       "    </tr>\n",
       "    <tr>\n",
       "      <th>1</th>\n",
       "      <td>226</td>\n",
       "      <td>201</td>\n",
       "    </tr>\n",
       "  </tbody>\n",
       "</table>\n",
       "</div>"
      ],
      "text/plain": [
       "predites     0    1\n",
       "réelle             \n",
       "0         1127  216\n",
       "1          226  201"
      ]
     },
     "execution_count": 180,
     "metadata": {},
     "output_type": "execute_result"
    }
   ],
   "source": [
    "# conception du modele composite et entrainement avec  correction du déséquilibre de classes\n",
    "\n",
    "model = make_pipeline(preprocessor,\n",
    "                      LogisticRegression(max_iter=10000, random_state=121, class_weight={0:1, 1:2.33}))\n",
    "model.fit(X_train2, y_train2)\n",
    "\n",
    "print(\"L'exactitude est :\", model.score(X_test2, y_test2).round(3))\n",
    "\n",
    "y_pred2=model.predict(X_test2)\n",
    "pd.crosstab(y_test2, y_pred2, rownames=['réelle'], colnames=['predites'])\n"
   ]
  },
  {
   "cell_type": "code",
   "execution_count": 181,
   "id": "7a507b7a",
   "metadata": {},
   "outputs": [
    {
     "name": "stdout",
     "output_type": "stream",
     "text": [
      "              precision    recall  f1-score   support\n",
      "\n",
      "           0       0.83      0.84      0.84      1343\n",
      "           1       0.48      0.47      0.48       427\n",
      "\n",
      "    accuracy                           0.75      1770\n",
      "   macro avg       0.66      0.65      0.66      1770\n",
      "weighted avg       0.75      0.75      0.75      1770\n",
      "\n"
     ]
    }
   ],
   "source": [
    "print(classification_report(y_test2,y_pred2))\n"
   ]
  },
  {
   "cell_type": "code",
   "execution_count": 182,
   "id": "a4aecd0d",
   "metadata": {},
   "outputs": [],
   "source": [
    "# choix des valeurs possibles des hyperparamètres\n",
    "\n",
    "params= {'logisticregression__penalty' : ['l1', 'l2'],\n",
    "         'logisticregression__C' : [0.1,0.01,.09,1,5,25,40, 55,75],\n",
    "         'logisticregression__solver' : ['liblinear', 'saga']}"
   ]
  },
  {
   "cell_type": "code",
   "execution_count": 183,
   "id": "a13894ff",
   "metadata": {},
   "outputs": [
    {
     "data": {
      "text/plain": [
       "GridSearchCV(cv=3,\n",
       "             estimator=Pipeline(steps=[('columntransformer',\n",
       "                                        ColumnTransformer(transformers=[('robustscaler',\n",
       "                                                                         RobustScaler(),\n",
       "                                                                         <sklearn.compose._column_transformer.make_column_selector object at 0x7fb663113e90>),\n",
       "                                                                        ('onehotencoder',\n",
       "                                                                         OneHotEncoder(handle_unknown='ignore'),\n",
       "                                                                         <sklearn.compose._column_transformer.make_column_selector object at 0x7fb663113b50>)])),\n",
       "                                       ('logisticregression',\n",
       "                                        LogisticRegression(class_weight={0: 1,\n",
       "                                                                         1: 2.33},\n",
       "                                                           max_iter=10000,\n",
       "                                                           random_state=121))]),\n",
       "             param_grid={'logisticregression__C': [0.1, 0.01, 0.09, 1, 5, 25,\n",
       "                                                   40, 55, 75],\n",
       "                         'logisticregression__penalty': ['l1', 'l2'],\n",
       "                         'logisticregression__solver': ['liblinear', 'saga']},\n",
       "             scoring='recall')"
      ]
     },
     "execution_count": 183,
     "metadata": {},
     "output_type": "execute_result"
    }
   ],
   "source": [
    "# recherche des hyperparamètres optimum\n",
    "\n",
    "grid= GridSearchCV (model, params,scoring='recall', cv=3)\n",
    "grid.fit(X_train2, y_train2)"
   ]
  },
  {
   "cell_type": "code",
   "execution_count": 184,
   "id": "990fdbe5",
   "metadata": {},
   "outputs": [
    {
     "data": {
      "text/plain": [
       "{'logisticregression__C': 40,\n",
       " 'logisticregression__penalty': 'l2',\n",
       " 'logisticregression__solver': 'liblinear'}"
      ]
     },
     "execution_count": 184,
     "metadata": {},
     "output_type": "execute_result"
    }
   ],
   "source": [
    "# affichage des meilleurs hyper paramètres\n",
    "\n",
    "grid.best_params_"
   ]
  },
  {
   "cell_type": "code",
   "execution_count": 185,
   "id": "29d205d6",
   "metadata": {},
   "outputs": [
    {
     "data": {
      "text/plain": [
       "0.47"
      ]
     },
     "execution_count": 185,
     "metadata": {},
     "output_type": "execute_result"
    }
   ],
   "source": [
    "# nouveau recall avec hyper paramètres optimisés\n",
    "\n",
    "grid.score(X_test2, y_test2).round(2)\n"
   ]
  },
  {
   "cell_type": "code",
   "execution_count": 186,
   "id": "97cae6a1",
   "metadata": {},
   "outputs": [],
   "source": [
    "# sauvegarde du modèle optimum\n",
    "\n",
    "optim=grid.best_estimator_"
   ]
  },
  {
   "cell_type": "code",
   "execution_count": 187,
   "id": "a4a826fc",
   "metadata": {},
   "outputs": [
    {
     "data": {
      "text/html": [
       "<div>\n",
       "<style scoped>\n",
       "    .dataframe tbody tr th:only-of-type {\n",
       "        vertical-align: middle;\n",
       "    }\n",
       "\n",
       "    .dataframe tbody tr th {\n",
       "        vertical-align: top;\n",
       "    }\n",
       "\n",
       "    .dataframe thead th {\n",
       "        text-align: right;\n",
       "    }\n",
       "</style>\n",
       "<table border=\"1\" class=\"dataframe\">\n",
       "  <thead>\n",
       "    <tr style=\"text-align: right;\">\n",
       "      <th>predites</th>\n",
       "      <th>0</th>\n",
       "      <th>1</th>\n",
       "    </tr>\n",
       "    <tr>\n",
       "      <th>réelle</th>\n",
       "      <th></th>\n",
       "      <th></th>\n",
       "    </tr>\n",
       "  </thead>\n",
       "  <tbody>\n",
       "    <tr>\n",
       "      <th>0</th>\n",
       "      <td>1124</td>\n",
       "      <td>219</td>\n",
       "    </tr>\n",
       "    <tr>\n",
       "      <th>1</th>\n",
       "      <td>225</td>\n",
       "      <td>202</td>\n",
       "    </tr>\n",
       "  </tbody>\n",
       "</table>\n",
       "</div>"
      ],
      "text/plain": [
       "predites     0    1\n",
       "réelle             \n",
       "0         1124  219\n",
       "1          225  202"
      ]
     },
     "execution_count": 187,
     "metadata": {},
     "output_type": "execute_result"
    }
   ],
   "source": [
    "# affichage de la matrice de confusion issue du modèle optimum\n",
    "\n",
    "y_pred2=optim.predict(X_test2)\n",
    "pd.crosstab(y_test2, y_pred2, rownames=['réelle'], colnames=['predites'])\n"
   ]
  },
  {
   "cell_type": "code",
   "execution_count": 188,
   "id": "a10e2d86",
   "metadata": {},
   "outputs": [
    {
     "name": "stdout",
     "output_type": "stream",
     "text": [
      "              precision    recall  f1-score   support\n",
      "\n",
      "           0       0.83      0.84      0.84      1343\n",
      "           1       0.48      0.47      0.48       427\n",
      "\n",
      "    accuracy                           0.75      1770\n",
      "   macro avg       0.66      0.66      0.66      1770\n",
      "weighted avg       0.75      0.75      0.75      1770\n",
      "\n"
     ]
    }
   ],
   "source": [
    "print(classification_report(y_test2,y_pred2))"
   ]
  },
  {
   "cell_type": "markdown",
   "id": "cd5d6907",
   "metadata": {},
   "source": [
    "**Conclusion de la modélisation avec notre dataset d'origine**\n",
    "\n",
    "- La performance est modeste\n",
    "- Les données de base sont difficiles à appréhender du fait de leur anonymisation\n",
    "- Nous devons enrichir de données externes accessibles et que nous pensons pertinentes"
   ]
  },
  {
   "cell_type": "markdown",
   "id": "a62b1c61",
   "metadata": {},
   "source": [
    "# Septième étape - L'ajout de données pour enrichir notre dataset\n",
    "\n",
    "Avec des données pouvant avoir un impact sur la survenance d'un sinistre\n",
    "\n",
    "- Ajout de la population de la commune au sens Insee.\n",
    "- Ajout du departement, de la superficie du departement, la population et la densité de population au M2.\n",
    "- Ajout des interventions pompiers (incendies et risques technologique).\n",
    "- Ajout du prix de l'immobilier au M2\n",
    "- Ajout du nombre d'évenements CAT NAT"
   ]
  },
  {
   "cell_type": "code",
   "execution_count": 189,
   "id": "3a486203",
   "metadata": {},
   "outputs": [
    {
     "name": "stdout",
     "output_type": "stream",
     "text": [
      "<class 'pandas.core.frame.DataFrame'>\n",
      "RangeIndex: 34995 entries, 0 to 34994\n",
      "Data columns (total 2 columns):\n",
      " #   Column      Non-Null Count  Dtype \n",
      "---  ------      --------------  ----- \n",
      " 0   Insee       34995 non-null  object\n",
      " 1   Population  34995 non-null  int64 \n",
      "dtypes: int64(1), object(1)\n",
      "memory usage: 546.9+ KB\n"
     ]
    }
   ],
   "source": [
    "# importation du fichier Data. Gouv des communes\n",
    "df_communes = pd.read_csv('Communes.csv',sep =';')\n",
    "df_communes= df_communes.drop(['COM','PMUN','PCAP'],axis = 1)\n",
    "\n",
    "df_communes = df_communes.rename(columns={'DEPCOM':'Insee'})\n",
    "df_communes = df_communes.rename(columns={'PTOT':'Population'})\n",
    "df_communes.info()"
   ]
  },
  {
   "cell_type": "code",
   "execution_count": 190,
   "id": "d55ac643",
   "metadata": {
    "scrolled": true
   },
   "outputs": [
    {
     "name": "stdout",
     "output_type": "stream",
     "text": [
      "<class 'pandas.core.frame.DataFrame'>\n",
      "Int64Index: 8849 entries, 0 to 8848\n",
      "Data columns (total 26 columns):\n",
      " #   Column       Non-Null Count  Dtype   \n",
      "---  ------       --------------  -----   \n",
      " 0   target       8849 non-null   int64   \n",
      " 1   ft_2_categ   8849 non-null   object  \n",
      " 2   EXPO         8849 non-null   float64 \n",
      " 3   ft_4_categ   8849 non-null   object  \n",
      " 4   ft_5_categ   8849 non-null   object  \n",
      " 5   ft_6_categ   8849 non-null   object  \n",
      " 6   ft_7_categ   8849 non-null   object  \n",
      " 7   ft_8_categ   8849 non-null   object  \n",
      " 8   ft_9_categ   8849 non-null   object  \n",
      " 9   ft_10_categ  8849 non-null   object  \n",
      " 10  ft_11_categ  8849 non-null   object  \n",
      " 11  ft_12_categ  8849 non-null   object  \n",
      " 12  ft_13_categ  8849 non-null   object  \n",
      " 13  ft_14_categ  8849 non-null   object  \n",
      " 14  ft_15_categ  8849 non-null   object  \n",
      " 15  ft_17_categ  8849 non-null   object  \n",
      " 16  ft_18_categ  8849 non-null   object  \n",
      " 17  ft_19_categ  8849 non-null   object  \n",
      " 18  superficief  8849 non-null   float64 \n",
      " 19  ft_21_categ  8849 non-null   object  \n",
      " 20  ft_23_categ  8849 non-null   object  \n",
      " 21  ft_24_categ  8849 non-null   object  \n",
      " 22  Insee        8849 non-null   object  \n",
      " 23  decennie     8849 non-null   object  \n",
      " 24  quantile_10  8849 non-null   category\n",
      " 25  Population   8764 non-null   float64 \n",
      "dtypes: category(1), float64(3), int64(1), object(21)\n",
      "memory usage: 1.8+ MB\n"
     ]
    }
   ],
   "source": [
    "# augmentation de notre DataFrame d'origine avec la population des communes, clé = code Insee\n",
    "df=df.merge(df_communes,on=['Insee'],how='left')\n",
    "df.info()"
   ]
  },
  {
   "cell_type": "code",
   "execution_count": 191,
   "id": "1aefed5c",
   "metadata": {},
   "outputs": [],
   "source": [
    "# On constate la présence de valeurs manquantes sur la variable ajoutée Population, 8764 vs 8849\n",
    "# On remplace les valeurs manquantes par la moyenne de population du dataframe\n",
    "\n",
    "df['Population']=df['Population'].fillna(df.Population.mean())"
   ]
  },
  {
   "cell_type": "code",
   "execution_count": 192,
   "id": "e3675a30",
   "metadata": {},
   "outputs": [],
   "source": [
    "# Importation du fichier de correspondance entre codes Insee et Postaux\n",
    "import geopandas as  gpd\n",
    "communes=gpd.read_file('correspondance-code-insee-code-postal.geojson')\n",
    "communes_insee=communes.rename(columns={'insee_com':'Insee'})"
   ]
  },
  {
   "cell_type": "code",
   "execution_count": 193,
   "id": "d6ec46da",
   "metadata": {},
   "outputs": [],
   "source": [
    "# on conserve les variables que l'on veut ajouter à notre dataframe\n",
    "\n",
    "communes_insee = communes_insee.drop(['code_comm', 'nom_dept', 'statut', 'code_reg', 'nom_region', 'z_moyen',\n",
    "        'postal_code', 'id_geofla','code_cant', 'nom_comm', 'code_arr', 'geometry'],axis=1)\n"
   ]
  },
  {
   "cell_type": "code",
   "execution_count": 194,
   "id": "11d84ec7",
   "metadata": {},
   "outputs": [],
   "source": [
    "# on intègre les variables supplémentaires avec la clé Insee\n",
    "\n",
    "df=df.merge(communes_insee,on=['Insee'])\n",
    "df = df.rename(columns={'population':'Densité M2'})\n"
   ]
  },
  {
   "cell_type": "code",
   "execution_count": 195,
   "id": "714cb518",
   "metadata": {},
   "outputs": [
    {
     "name": "stdout",
     "output_type": "stream",
     "text": [
      "<class 'pandas.core.frame.DataFrame'>\n",
      "Int64Index: 97 entries, 1 to 97\n",
      "Data columns (total 4 columns):\n",
      " #   Column                  Non-Null Count  Dtype \n",
      "---  ------                  --------------  ----- \n",
      " 0   ft_2_categ              97 non-null     int64 \n",
      " 1   code_dept               97 non-null     object\n",
      " 2   Incendies               97 non-null     int64 \n",
      " 3   Risques technologiques  97 non-null     int64 \n",
      "dtypes: int64(3), object(1)\n",
      "memory usage: 3.8+ KB\n"
     ]
    }
   ],
   "source": [
    "# création du dataframe des interventions pompier en 2012\n",
    "\n",
    "df_pomp_2012 = pd.read_csv('interventions.csv', sep=';')\n",
    "df_pomp_2012 = df_pomp_2012.drop([ 'Zone', 'R�gion', 'D�partement', 'Cat�gorie',\n",
    "        'Secours � victime', 'Aides � personnes',\n",
    "       'Secours � personne', 'Accidents de circulation',\n",
    "        'Protection des biens', 'Divers',\n",
    "       'Op�rations diverses', 'Total interventions'],axis=1)\n",
    "df_pomp_2012 = df_pomp_2012.rename(columns={'Ann�e':'ft_2_categ'})\n",
    "df_pomp_2012 = df_pomp_2012.rename(columns={'Num�ro':'code_dept'})\n",
    "df_pomp_2012 =  df_pomp_2012.replace(to_replace=['BSPP'],value=[75])\n",
    "df_pomp_2012 = df_pomp_2012.drop(df_pomp_2012[df_pomp_2012['code_dept']=='BMPM'].index)\n",
    "df_pomp_2012.info()"
   ]
  },
  {
   "cell_type": "code",
   "execution_count": 196,
   "id": "dad5c6e7",
   "metadata": {},
   "outputs": [],
   "source": [
    "#On crée un dataframe additionnel pour 2012 en ajoutant les departements manquants\n",
    "#On attribue aux variables de risque technologique et incendie pour les départements manquants par...\n",
    "#...la moyenne des interventions constatées sur les autres départements\n",
    "#On le combine au dataframe des interventions existantes\n",
    "\n",
    "df_pomp_newline_2012 = pd.DataFrame({'ft_2_categ': [2012, 2012, 2012], \n",
    "                       'code_dept': ['92', '93', '94'], \n",
    "                       'Incendies': [round(df_pomp_2012['Incendies'].mean()),\n",
    "                                     round(df_pomp_2012['Incendies'].mean()),\n",
    "                                     round(df_pomp_2012['Incendies'].mean()) ], \n",
    "                       'Risques technologiques': [round(df_pomp_2012['Risques technologiques'].mean()),\n",
    "                                                  round(df_pomp_2012['Risques technologiques'].mean()),\n",
    "                                                  round(df_pomp_2012['Risques technologiques'].mean())]}, \n",
    "                               columns = ['ft_2_categ', 'code_dept', 'Incendies', 'Risques technologiques'])\n",
    "\n",
    "\n",
    "df_pomp_2012= pd.concat([df_pomp_2012,df_pomp_newline_2012],ignore_index=True)\n"
   ]
  },
  {
   "cell_type": "code",
   "execution_count": 197,
   "id": "b0e303dc",
   "metadata": {
    "scrolled": true
   },
   "outputs": [
    {
     "name": "stdout",
     "output_type": "stream",
     "text": [
      "<class 'pandas.core.frame.DataFrame'>\n",
      "Int64Index: 97 entries, 1 to 97\n",
      "Data columns (total 4 columns):\n",
      " #   Column                  Non-Null Count  Dtype \n",
      "---  ------                  --------------  ----- \n",
      " 0   ft_2_categ              97 non-null     int64 \n",
      " 1   code_dept               97 non-null     object\n",
      " 2   Incendies               97 non-null     int64 \n",
      " 3   Risques technologiques  97 non-null     int64 \n",
      "dtypes: int64(3), object(1)\n",
      "memory usage: 3.8+ KB\n"
     ]
    }
   ],
   "source": [
    "# création du dataframe des interventions pompier en 2013\n",
    "\n",
    "df_pomp_2013 = pd.read_csv('interventions2013.csv', sep=';')\n",
    "df_pomp_2013 = df_pomp_2013.drop([ 'Zone', 'R�gion', 'D�partement', 'Cat�gorie',\n",
    "        'Secours � victime', 'Aides � personne',\n",
    "       'Secours � personne', 'Accidents de circulation',\n",
    "        'Protection des biens', 'Divers',\n",
    "        'Op�rations diverses', 'Total interventions'],axis=1)\n",
    "df_pomp_2013 = df_pomp_2013.rename(columns={'Ann�e':'ft_2_categ'})\n",
    "df_pomp_2013 = df_pomp_2013.rename(columns={'Num�ro':'code_dept'})\n",
    "df_pomp_2013 =  df_pomp_2013.replace(to_replace=['BSPP'],value=[75])\n",
    "df_pomp_2013 = df_pomp_2013.drop(df_pomp_2013[df_pomp_2013['code_dept']=='BMPM'].index)\n",
    "df_pomp_2013.Incendies= df_pomp_2013.Incendies.str.replace(' ', '')\n",
    "df_pomp_2013.Incendies= df_pomp_2013.Incendies.astype('int')\n",
    "df_pomp_2013['Risques technologiques']= df_pomp_2013['Risques technologiques'].str.replace(' ', '')\n",
    "df_pomp_2013['Risques technologiques']= df_pomp_2013['Risques technologiques'].astype('int')\n",
    "df_pomp_2013.info()"
   ]
  },
  {
   "cell_type": "code",
   "execution_count": 198,
   "id": "8d70a680",
   "metadata": {},
   "outputs": [
    {
     "name": "stdout",
     "output_type": "stream",
     "text": [
      "<class 'pandas.core.frame.DataFrame'>\n",
      "RangeIndex: 100 entries, 0 to 99\n",
      "Data columns (total 4 columns):\n",
      " #   Column                  Non-Null Count  Dtype \n",
      "---  ------                  --------------  ----- \n",
      " 0   ft_2_categ              100 non-null    int64 \n",
      " 1   code_dept               100 non-null    object\n",
      " 2   Incendies               100 non-null    int64 \n",
      " 3   Risques technologiques  100 non-null    int64 \n",
      "dtypes: int64(3), object(1)\n",
      "memory usage: 3.2+ KB\n"
     ]
    }
   ],
   "source": [
    "#On creer un dataframe additionnel pour 2013 en ajoutant les departements manquants\n",
    "#On attribue aux variables de risque technologique et incendie pour les départements manquants par...\n",
    "#...la moyenne des interventions constatées sur les autres départements\n",
    "#On le combine au dataframe des interventions existantes\n",
    "\n",
    "df_pomp_newline_2013 = pd.DataFrame({'ft_2_categ': [2013, 2013, 2013], \n",
    "                       'code_dept': ['92','93','94'], \n",
    "                       'Incendies': [round(df_pomp_2013['Incendies'].mean()),\n",
    "                                     round(df_pomp_2013['Incendies'].mean()),\n",
    "                                     round(df_pomp_2013['Incendies'].mean()) ], \n",
    "                       'Risques technologiques': [round(df_pomp_2013['Risques technologiques'].mean()),\n",
    "                                                  round(df_pomp_2013['Risques technologiques'].mean()),\n",
    "                                                  round(df_pomp_2013['Risques technologiques'].mean())]}, \n",
    "                               columns = ['ft_2_categ', 'code_dept', 'Incendies', 'Risques technologiques'])\n",
    "\n",
    "\n",
    "df_pomp_2013= pd.concat([df_pomp_2013,df_pomp_newline_2013],ignore_index=True)\n",
    "\n",
    "df_pomp_2013.info()"
   ]
  },
  {
   "cell_type": "code",
   "execution_count": 199,
   "id": "087bc117",
   "metadata": {},
   "outputs": [],
   "source": [
    "# création du dataframe des interventions pompier en 2014\n",
    "\n",
    "df_pomp_2014 = pd.read_csv('interventions2014.csv', sep=';')\n",
    "df_pomp_2014 = df_pomp_2014.drop([ 'Zone', 'R�gion', 'D�partement', 'Cat�gorie',\n",
    "       \"Feux d'habitations-bureaux\", 'dont feux de chemin�es',\n",
    "       \"Feux d'ERP avec local � sommeil\", \"Feux d'ERP sans local � sommeil\",\n",
    "       'Feux de locaux industriels', 'Feux de locaux artisanaux',\n",
    "       'Feux de locaux agricoles', 'Feux sur voie publique',\n",
    "       'Feux de v�hicules', 'Feux de v�g�tations', 'Autres feux',\n",
    "       'Accidents sur lieux de travail', 'Accidents � domicile',\n",
    "       'Accidents de sport', 'Accidents sur voie publique',\n",
    "       'Secours en montagne', 'Malaises sur lieux de travail',\n",
    "       'Malaises � domicile : urgence vitale', 'Malaises � domicile : carence',\n",
    "       'Malaises en sport', 'Malaises sur voie publique', 'Autolyses',\n",
    "       'Secours en piscines ou eaux int�rieures', 'Secours en mer (FDSM)',\n",
    "       'Intoxications', 'dont intoxications au CO', 'Autres SAV',\n",
    "       'Secours � victime', 'Relevage de personnes', 'Recherche de personnes',\n",
    "       'Aides � personne', 'Secours � personne', 'Accidents routiers',\n",
    "       'Accidents ferroviaires', 'Accidents a�riens',\n",
    "       'Accidents de navigation', 'Accidents de t�l�portage',\n",
    "       'Accidents de circulation', 'Odeurs - fuites de gaz',\n",
    "       'Odeurs (autres que gaz)', \"Fait dus � l'�lectricit�\",\n",
    "       'Pollutions - contaminations', 'Autres risques technologiques',\n",
    "        \"Fuites d'eau\", 'Inondations',\n",
    "       'Ouvertures de portes', \"Recherches d'objets\", 'Bruits suspects',\n",
    "       'Protection des biens', 'Fausses alertes', 'dont T�l�alarmes',\n",
    "       \"Faits d'animaux (hors hym�nopt�res)\", 'Hym�nopt�res',\n",
    "       'D�gagements de voies publiques', 'Nettoyages de voies publiques',\n",
    "       '�boulements', \"D�poses d'objets\",\n",
    "       'Piquets de s�curit� - surveillances', 'Engins explosifs',\n",
    "       'Autres op�rations diverses', 'Divers', 'Op�rations diverses',\n",
    "       'Total interventions'],axis=1)\n",
    "df_pomp_2014 = df_pomp_2014.rename(columns={'Ann�e':'ft_2_categ'})\n",
    "df_pomp_2014 = df_pomp_2014.rename(columns={'Num�ro':'code_dept'})\n",
    "df_pomp_2014 =  df_pomp_2014.replace(to_replace=['BSPP'],value=[75])\n",
    "df_pomp_2014 = df_pomp_2014.drop(df_pomp_2014[df_pomp_2014['code_dept']=='BMPM'].index)\n",
    "df_pomp_2014.Incendies= df_pomp_2014.Incendies.str.replace(' ', '')\n",
    "df_pomp_2014.Incendies= df_pomp_2014.Incendies.astype('int')\n",
    "df_pomp_2014['Risques technologiques']= df_pomp_2014['Risques technologiques'].str.replace(' ', '')\n",
    "df_pomp_2014['Risques technologiques']= df_pomp_2014['Risques technologiques'].astype('int')\n"
   ]
  },
  {
   "cell_type": "code",
   "execution_count": 200,
   "id": "92464483",
   "metadata": {},
   "outputs": [
    {
     "name": "stdout",
     "output_type": "stream",
     "text": [
      "<class 'pandas.core.frame.DataFrame'>\n",
      "RangeIndex: 101 entries, 0 to 100\n",
      "Data columns (total 4 columns):\n",
      " #   Column                  Non-Null Count  Dtype \n",
      "---  ------                  --------------  ----- \n",
      " 0   ft_2_categ              101 non-null    int64 \n",
      " 1   code_dept               101 non-null    object\n",
      " 2   Incendies               101 non-null    int64 \n",
      " 3   Risques technologiques  101 non-null    int64 \n",
      "dtypes: int64(3), object(1)\n",
      "memory usage: 3.3+ KB\n"
     ]
    }
   ],
   "source": [
    "#On crée un dataframe additionnel pour 2014 en ajoutant les departements manquants\n",
    "#On attribue aux variables de risque technologique et incendie pour les départements manquants par...\n",
    "#...la moyenne des interventions constatées sur les autres départements\n",
    "#On le combine au dataframe des interventions existantes\n",
    "\n",
    "df_pomp_newline_2014 = pd.DataFrame({'ft_2_categ': [2014, 2014, 2014], \n",
    "                       'code_dept': ['92','93','94'], \n",
    "                       'Incendies': [round(df_pomp_2014['Incendies'].mean()),\n",
    "                                     round(df_pomp_2014['Incendies'].mean()),\n",
    "                                     round(df_pomp_2014['Incendies'].mean()) ], \n",
    "                       'Risques technologiques': [round(df_pomp_2014['Risques technologiques'].mean()),\n",
    "                                                  round(df_pomp_2014['Risques technologiques'].mean()),\n",
    "                                                  round(df_pomp_2014['Risques technologiques'].mean())]}, \n",
    "                               columns = ['ft_2_categ', 'code_dept', 'Incendies', 'Risques technologiques'])\n",
    "\n",
    "#df_pomp_newline_2014['code_dept']= df_pomp_newline_2014['code_dept'].astype('object')\n",
    "\n",
    "df_pomp_2014= pd.concat([df_pomp_2014,df_pomp_newline_2014],ignore_index=True)\n",
    "\n",
    "df_pomp_2014.info()"
   ]
  },
  {
   "cell_type": "code",
   "execution_count": 201,
   "id": "514c93a2",
   "metadata": {},
   "outputs": [
    {
     "name": "stdout",
     "output_type": "stream",
     "text": [
      "<class 'pandas.core.frame.DataFrame'>\n",
      "Int64Index: 98 entries, 1 to 98\n",
      "Data columns (total 4 columns):\n",
      " #   Column                  Non-Null Count  Dtype \n",
      "---  ------                  --------------  ----- \n",
      " 0   ft_2_categ              98 non-null     int64 \n",
      " 1   code_dept               98 non-null     object\n",
      " 2   Incendies               98 non-null     int64 \n",
      " 3   Risques technologiques  98 non-null     int64 \n",
      "dtypes: int64(3), object(1)\n",
      "memory usage: 3.8+ KB\n"
     ]
    }
   ],
   "source": [
    "# création du dataframe des interventions pompier en 2015\n",
    "\n",
    "df_pomp_2015= pd.read_csv('interventions2015.csv', sep=';')\n",
    "df_pomp_2015 = df_pomp_2015.drop([ 'Zone', 'R�gion', 'D�partement', 'Cat�gorie',\n",
    "       \"Feux d'habitations-bureaux\", 'dont feux de chemin�es',\"Feux d'ERP avec local � sommeil\",\n",
    "       \"Feux d'ERP sans local � sommeil\",\n",
    "       'Feux de locaux industriels', 'Feux de locaux artisanaux',\n",
    "       'Feux de locaux agricoles', 'Feux sur voie publique',\n",
    "       'Feux de v�hicules', 'Feux de v�g�tations', 'Autres feux',\n",
    "       'Accidents sur lieux de travail', 'Accidents � domicile',\n",
    "       'Accidents de sport', 'Accidents sur voie publique',\n",
    "       'Secours en montagne', 'Malaises sur lieux de travail',\n",
    "       'Malaises � domicile : urgence vitale', 'Malaises � domicile : carence',\n",
    "       'Malaises en sport', 'Malaises sur voie publique', 'Autolyses',\n",
    "       'Secours en piscines ou eaux int�rieures', 'Secours en mer (FDSM)',\n",
    "       'Intoxications', 'dont intoxications au CO', 'Autres SAV',\n",
    "       'Secours � victime', 'Relevage de personnes', 'Recherche de personnes',\n",
    "       'Aides � personne', 'Secours � personne', 'Accidents routiers',\n",
    "       'Accidents ferroviaires', 'Accidents a�riens',\n",
    "       'Accidents de navigation', 'Accidents de t�l�portage',\n",
    "       'Accidents de circulation', 'Odeurs - fuites de gaz',\n",
    "       'Odeurs (autres que gaz)', \"Fait dus � l'�lectricit�\",\n",
    "       'Pollutions - contaminations', 'Autres risques technologiques',\n",
    "        \"Fuites d'eau\", 'Inondations',\n",
    "       'Ouvertures de portes', \"Recherches d'objets\", 'Bruits suspects',\n",
    "       'Protection des biens', 'Fausses alertes', 'dont T�l�alarmes',\n",
    "       \"Faits d'animaux (hors hym�nopt�res)\", 'Hym�nopt�res',\n",
    "       'D�gagements de voies publiques', 'Nettoyages de voies publiques',\n",
    "       '�boulements', \"D�poses d'objets\",\n",
    "       'Piquets de s�curit� - surveillances', 'Engins explosifs',\n",
    "       'Autres op�rations diverses', 'Divers', 'Op�rations diverses',\n",
    "       'Total interventions'],axis=1)\n",
    "df_pomp_2015 = df_pomp_2015.rename(columns={'Ann�e':'ft_2_categ'})\n",
    "df_pomp_2015 = df_pomp_2015.rename(columns={'Num�ro':'code_dept'})\n",
    "df_pomp_2015 =  df_pomp_2015.replace(to_replace=['BSPP'],value=[75])\n",
    "df_pomp_2015 = df_pomp_2015.drop(df_pomp_2015[df_pomp_2015['code_dept']=='BMPM'].index)\n",
    "df_pomp_2015.Incendies= df_pomp_2015.Incendies.str.replace(' ', '')\n",
    "df_pomp_2015.Incendies= df_pomp_2015.Incendies.astype('int')\n",
    "df_pomp_2015['Risques technologiques']= df_pomp_2015['Risques technologiques'].str.replace(' ', '')\n",
    "df_pomp_2015['Risques technologiques']= df_pomp_2015['Risques technologiques'].astype('int')\n",
    "df_pomp_2015.info()"
   ]
  },
  {
   "cell_type": "code",
   "execution_count": 202,
   "id": "165b15eb",
   "metadata": {},
   "outputs": [
    {
     "name": "stdout",
     "output_type": "stream",
     "text": [
      "<class 'pandas.core.frame.DataFrame'>\n",
      "RangeIndex: 101 entries, 0 to 100\n",
      "Data columns (total 4 columns):\n",
      " #   Column                  Non-Null Count  Dtype \n",
      "---  ------                  --------------  ----- \n",
      " 0   ft_2_categ              101 non-null    int64 \n",
      " 1   code_dept               101 non-null    object\n",
      " 2   Incendies               101 non-null    int64 \n",
      " 3   Risques technologiques  101 non-null    int64 \n",
      "dtypes: int64(3), object(1)\n",
      "memory usage: 3.3+ KB\n"
     ]
    }
   ],
   "source": [
    "#On crée un dataframe additionnel pour 2015 en ajoutant les departements manquants\n",
    "#On attribue aux variables de risque technologique et incendie pour les départements manquants par...\n",
    "#...la moyenne des interventions constatées sur les autres départements\n",
    "#On le combine au dataframe des interventions existantes\n",
    "\n",
    "df_pomp_newline_2015 = pd.DataFrame({'ft_2_categ': [2015, 2015, 2015], \n",
    "                       'code_dept': ['92','93','94'], \n",
    "                       'Incendies': [round(df_pomp_2015['Incendies'].mean()),\n",
    "                                     round(df_pomp_2015['Incendies'].mean()),\n",
    "                                     round(df_pomp_2015['Incendies'].mean()) ], \n",
    "                       'Risques technologiques': [round(df_pomp_2015['Risques technologiques'].mean()),\n",
    "                                                  round(df_pomp_2015['Risques technologiques'].mean()),\n",
    "                                                  round(df_pomp_2015['Risques technologiques'].mean())]}, \n",
    "                               columns = ['ft_2_categ', 'code_dept', 'Incendies', 'Risques technologiques'])\n",
    "\n",
    "#df_pomp_newline_2015['code_dept']= df_pomp_newline_2015['code_dept'].astype('object')\n",
    "\n",
    "df_pomp_2015= pd.concat([df_pomp_2015,df_pomp_newline_2015],ignore_index=True)\n",
    "\n",
    "df_pomp_2015.info()"
   ]
  },
  {
   "cell_type": "code",
   "execution_count": 203,
   "id": "e21cc4fa",
   "metadata": {},
   "outputs": [
    {
     "name": "stdout",
     "output_type": "stream",
     "text": [
      "<class 'pandas.core.frame.DataFrame'>\n",
      "Int64Index: 98 entries, 1 to 98\n",
      "Data columns (total 4 columns):\n",
      " #   Column                  Non-Null Count  Dtype \n",
      "---  ------                  --------------  ----- \n",
      " 0   ft_2_categ              98 non-null     int64 \n",
      " 1   code_dept               98 non-null     object\n",
      " 2   Incendies               98 non-null     int64 \n",
      " 3   Risques technologiques  98 non-null     int64 \n",
      "dtypes: int64(3), object(1)\n",
      "memory usage: 3.8+ KB\n"
     ]
    }
   ],
   "source": [
    "# et enfin création du dataframe des interventions pompier en 2016\n",
    "df_pomp_2016 = pd.read_csv('interventions2016.csv', sep=';')\n",
    "df_pomp_2016 = df_pomp_2016.drop([ 'Zone', 'R�gion', 'D�partement', 'Cat�gorie',\n",
    "       \"Feux d'habitations-bureaux\", 'dont feux de chemin�es',\n",
    "       \"Feux d'ERP avec local � sommeil\", \"Feux d'ERP sans local � sommeil\",\n",
    "       'Feux de locaux industriels', 'Feux de locaux artisanaux',\n",
    "       'Feux de locaux agricoles', 'Feux sur voie publique',\n",
    "       'Feux de v�hicules', 'Feux de v�g�tations', 'Autres feux',\n",
    "       'Accidents sur lieux de travail', 'Accidents � domicile',\n",
    "       'Accidents de sport', 'Accidents sur voie publique',\n",
    "       'Secours en montagne', 'Malaises sur lieux de travail',\n",
    "       'Malaises � domicile : urgence vitale', 'Malaises � domicile : carence',\n",
    "       'Malaises en sport', 'Malaises sur voie publique', 'Autolyses',\n",
    "       'Secours en piscines ou eaux int�rieures', 'Secours en mer (FDSM)',\n",
    "       'Intoxications', 'dont intoxications au CO', 'Autres SAV',\n",
    "       'Secours � victime', 'Relevage de personnes', 'Recherche de personnes',\n",
    "       'Aides � personne', 'Secours � personne', 'Accidents routiers',\n",
    "       'Accidents ferroviaires', 'Accidents a�riens',\n",
    "       'Accidents de navigation', 'Accidents de t�l�portage',\n",
    "       'Accidents de circulation', 'Odeurs - fuites de gaz',\n",
    "       'Odeurs (autres que gaz)', \"Fait dus � l'�lectricit�\",\n",
    "       'Pollutions - contaminations', 'Autres risques technologiques',\n",
    "        \"Fuites d'eau\", 'Inondations',\n",
    "       'Ouvertures de portes', \"Recherches d'objets\", 'Bruits suspects',\n",
    "       'Protection des biens', 'Fausses alertes',\n",
    "       \"Faits d'animaux (hors hym�nopt�res)\", 'Hym�nopt�res',\n",
    "       'D�gagements de voies publiques', 'Nettoyages de voies publiques',\n",
    "       '�boulements', \"D�poses d'objets\",\n",
    "       'Piquets de s�curit� - surveillances', 'Engins explosifs',\n",
    "       'Autres op�rations diverses', 'Divers', 'Op�rations diverses',\n",
    "       'Total interventions','dont fausses alertes DAAF'],axis=1)\n",
    "df_pomp_2016 = df_pomp_2016.rename(columns={'Ann�e':'ft_2_categ'})\n",
    "df_pomp_2016 = df_pomp_2016.rename(columns={'Num�ro':'code_dept'})\n",
    "df_pomp_2016 =  df_pomp_2016.replace(to_replace=['BSPP'],value=[75])\n",
    "df_pomp_2016 = df_pomp_2016.drop(df_pomp_2016[df_pomp_2016['code_dept']=='BMPM'].index)\n",
    "df_pomp_2016.Incendies= df_pomp_2016.Incendies.str.replace(' ', '')\n",
    "df_pomp_2016.Incendies= df_pomp_2016.Incendies.astype('int')\n",
    "df_pomp_2016['Risques technologiques']= df_pomp_2016['Risques technologiques'].str.replace(' ', '')\n",
    "df_pomp_2016['Risques technologiques']= df_pomp_2016['Risques technologiques'].astype('int')\n",
    "df_pomp_2016.info()"
   ]
  },
  {
   "cell_type": "code",
   "execution_count": 204,
   "id": "886a590e",
   "metadata": {},
   "outputs": [
    {
     "name": "stdout",
     "output_type": "stream",
     "text": [
      "<class 'pandas.core.frame.DataFrame'>\n",
      "RangeIndex: 101 entries, 0 to 100\n",
      "Data columns (total 4 columns):\n",
      " #   Column                  Non-Null Count  Dtype \n",
      "---  ------                  --------------  ----- \n",
      " 0   ft_2_categ              101 non-null    int64 \n",
      " 1   code_dept               101 non-null    object\n",
      " 2   Incendies               101 non-null    int64 \n",
      " 3   Risques technologiques  101 non-null    int64 \n",
      "dtypes: int64(3), object(1)\n",
      "memory usage: 3.3+ KB\n"
     ]
    }
   ],
   "source": [
    "#On crée un dataframe additionnel pour 2016 en ajoutant les departements manquants\n",
    "#On attribue aux variables de risque technologique et incendie pour les départements manquants par...\n",
    "#...la moyenne des interventions constatées sur les autres départements\n",
    "#On le combine au dataframe des interventions existantes\n",
    "\n",
    "df_pomp_newline_2016 = pd.DataFrame({'ft_2_categ': [2016, 2016, 2016], \n",
    "                       'code_dept': ['92','93','94'], \n",
    "                       'Incendies': [round(df_pomp_2016['Incendies'].mean()),\n",
    "                                     round(df_pomp_2016['Incendies'].mean()),\n",
    "                                     round(df_pomp_2016['Incendies'].mean()) ], \n",
    "                       'Risques technologiques': [round(df_pomp_2016['Risques technologiques'].mean()),\n",
    "                                                  round(df_pomp_2016['Risques technologiques'].mean()),\n",
    "                                                  round(df_pomp_2016['Risques technologiques'].mean())]}, \n",
    "                               columns = ['ft_2_categ', 'code_dept', 'Incendies', 'Risques technologiques'])\n",
    "\n",
    "#df_pomp_newline_2016['code_dept']= df_pomp_newline_2016['code_dept'].astype('object')\n",
    "\n",
    "df_pomp_2016= pd.concat([df_pomp_2016,df_pomp_newline_2016],ignore_index=True)\n",
    "\n",
    "df_pomp_2016.info()"
   ]
  },
  {
   "cell_type": "code",
   "execution_count": 205,
   "id": "f73762ec",
   "metadata": {},
   "outputs": [
    {
     "name": "stdout",
     "output_type": "stream",
     "text": [
      "<class 'pandas.core.frame.DataFrame'>\n",
      "RangeIndex: 503 entries, 0 to 502\n",
      "Data columns (total 4 columns):\n",
      " #   Column                  Non-Null Count  Dtype \n",
      "---  ------                  --------------  ----- \n",
      " 0   ft_2_categ              503 non-null    int64 \n",
      " 1   code_dept               503 non-null    object\n",
      " 2   Incendies               503 non-null    int64 \n",
      " 3   Risques technologiques  503 non-null    int64 \n",
      "dtypes: int64(3), object(1)\n",
      "memory usage: 15.8+ KB\n"
     ]
    }
   ],
   "source": [
    "# création du dataset pompiers complet (de 2012 à 2016)\n",
    "df_pomp= pd.concat([df_pomp_2012,df_pomp_2013],ignore_index=True)\n",
    "df_pomp=pd.concat([df_pomp,df_pomp_2014],ignore_index=True)\n",
    "df_pomp=pd.concat([df_pomp,df_pomp_2015],ignore_index=True)\n",
    "df_pomp=pd.concat([df_pomp,df_pomp_2016],ignore_index=True)\n",
    "\n",
    "df_pomp.info()"
   ]
  },
  {
   "cell_type": "code",
   "execution_count": 206,
   "id": "44718a4e",
   "metadata": {},
   "outputs": [],
   "source": [
    "#transformation des dept 2a et 2b en 2A et 2B et modification des chiffres en nombres pour permettre la fusion\n",
    "\n",
    "df_pomp['code_dept'] = df_pomp['code_dept'].replace('2a','2A')\n",
    "df_pomp['code_dept'] = df_pomp['code_dept'].replace('2b','2B')     \n",
    "\n",
    "df_pomp['code_dept'] = df_pomp['code_dept'].replace(['1','2','3','4','5','6','7','8','9'],\n",
    "                                                    ['01','02','03','04','05','06','07','08','09'])"
   ]
  },
  {
   "cell_type": "code",
   "execution_count": 207,
   "id": "5c7a4e46",
   "metadata": {
    "scrolled": true
   },
   "outputs": [],
   "source": [
    "# transformation du type de ft_2_categ\n",
    "df_pomp[['ft_2_categ']]= df[['ft_2_categ']].astype('object')\n",
    "\n",
    "# cleaning des doublons\n",
    "df_pomp.drop_duplicates(inplace=True)\n",
    "\n",
    "# création du dataframe augmenté du nombre d'interventions incendies et risques technologiques par département\n",
    "\n",
    "df1 = pd.merge(df,df_pomp,on=['code_dept','ft_2_categ'])"
   ]
  },
  {
   "cell_type": "code",
   "execution_count": 208,
   "id": "38ae55d4",
   "metadata": {},
   "outputs": [],
   "source": [
    "# création du dataframe à partir des données externes de prix au M2\n",
    "dfpmc=pd.read_csv('dvf-communes-2019.csv',sep=';')\n",
    "dfpmc = dfpmc.drop([ 'ID', 'INSEE_DEP', 'INSEE_REG', 'CODE_EPCI',\n",
    "        'NOM_COM_M', 'Nb_Ventes', 'POPULATION'],axis=1)\n",
    "dfpmc = dfpmc.rename(columns={'INSEE_COM':'Insee'})\n",
    "dfpmc = dfpmc.fillna(dfpmc.mean().round(2))\n"
   ]
  },
  {
   "cell_type": "code",
   "execution_count": 209,
   "id": "d1b87705",
   "metadata": {},
   "outputs": [],
   "source": [
    "# enrichissement du dataframe des valeurs des prix au M2\n",
    "\n",
    "df2 = pd.merge(df1,dfpmc,on=['Insee'],how='left')\n"
   ]
  },
  {
   "cell_type": "code",
   "execution_count": 210,
   "id": "8fede780",
   "metadata": {
    "scrolled": true
   },
   "outputs": [],
   "source": [
    "#On remplace les valeurs manquantes de prix au M2 par le prix moyen au M2\n",
    "df2['PrixMoyen_M2']=df2['PrixMoyen_M2'].fillna(df2['PrixMoyen_M2'].mean())\n"
   ]
  },
  {
   "cell_type": "code",
   "execution_count": 211,
   "id": "dad9f7d1",
   "metadata": {},
   "outputs": [],
   "source": [
    "# création  du dataframe à partir des données externes du nombre d'évènements de type CatNat par code Insee\n",
    "\n",
    "df3=pd.read_csv(\"Nb evenement Cat Nat.csv\", sep=';')\n"
   ]
  },
  {
   "cell_type": "code",
   "execution_count": 212,
   "id": "10860ef7",
   "metadata": {},
   "outputs": [],
   "source": [
    "# enrichissement du dataframe du nombre d'évènements de tyep CatNat\n",
    "\n",
    "df4 = df2.merge(df3, on=['Insee'], how='left')\n",
    "\n",
    "# remplacement des valeurs manquantes par la moyenne constatée par ailleurs\n",
    "\n",
    "df4['nb_evenement']=df4['nb_evenement'].fillna(df4['nb_evenement'].mean())\n",
    "\n"
   ]
  },
  {
   "cell_type": "code",
   "execution_count": 213,
   "id": "e9941e7c",
   "metadata": {},
   "outputs": [],
   "source": [
    "# séparation de la target et des variables explicatives\n",
    "\n",
    "data=df4.drop(['target','Insee'], axis=1)\n",
    "target=df4['target']"
   ]
  },
  {
   "cell_type": "code",
   "execution_count": 214,
   "id": "4f5ffc7d",
   "metadata": {},
   "outputs": [],
   "source": [
    "# re-création des ensembles d'entrainement et de test\n",
    "\n",
    "X_train3, X_test3, y_train3, y_test3=train_test_split(data, target, test_size=0.2, random_state=121)"
   ]
  },
  {
   "cell_type": "code",
   "execution_count": 215,
   "id": "adee5f09",
   "metadata": {},
   "outputs": [],
   "source": [
    "# séparation des numériques et des catégorielles\n",
    "numerical=make_column_selector(dtype_include=np.number)\n",
    "categorical=make_column_selector(dtype_exclude=np.number)"
   ]
  },
  {
   "cell_type": "code",
   "execution_count": 216,
   "id": "d8086ee4",
   "metadata": {},
   "outputs": [],
   "source": [
    "# définition des transformations sur variables\n",
    "preprocessor = make_column_transformer((RobustScaler(), numerical),(OneHotEncoder(handle_unknown='ignore'),\n",
    "                                                                    categorical))"
   ]
  },
  {
   "cell_type": "code",
   "execution_count": 217,
   "id": "12130808",
   "metadata": {},
   "outputs": [
    {
     "name": "stdout",
     "output_type": "stream",
     "text": [
      "L'exactitude est : 0.756\n"
     ]
    },
    {
     "data": {
      "text/html": [
       "<div>\n",
       "<style scoped>\n",
       "    .dataframe tbody tr th:only-of-type {\n",
       "        vertical-align: middle;\n",
       "    }\n",
       "\n",
       "    .dataframe tbody tr th {\n",
       "        vertical-align: top;\n",
       "    }\n",
       "\n",
       "    .dataframe thead th {\n",
       "        text-align: right;\n",
       "    }\n",
       "</style>\n",
       "<table border=\"1\" class=\"dataframe\">\n",
       "  <thead>\n",
       "    <tr style=\"text-align: right;\">\n",
       "      <th>predites</th>\n",
       "      <th>0</th>\n",
       "      <th>1</th>\n",
       "    </tr>\n",
       "    <tr>\n",
       "      <th>réelle</th>\n",
       "      <th></th>\n",
       "      <th></th>\n",
       "    </tr>\n",
       "  </thead>\n",
       "  <tbody>\n",
       "    <tr>\n",
       "      <th>0</th>\n",
       "      <td>1120</td>\n",
       "      <td>222</td>\n",
       "    </tr>\n",
       "    <tr>\n",
       "      <th>1</th>\n",
       "      <td>206</td>\n",
       "      <td>207</td>\n",
       "    </tr>\n",
       "  </tbody>\n",
       "</table>\n",
       "</div>"
      ],
      "text/plain": [
       "predites     0    1\n",
       "réelle             \n",
       "0         1120  222\n",
       "1          206  207"
      ]
     },
     "execution_count": 217,
     "metadata": {},
     "output_type": "execute_result"
    }
   ],
   "source": [
    "# conception du modele composite et entrainement avec  corection du déséquilibre de classes\n",
    "model = make_pipeline(preprocessor,\n",
    "                      LogisticRegression(max_iter=10000, random_state=121, class_weight={0:1, 1:2.33}))\n",
    "model.fit(X_train3, y_train3)\n",
    "\n",
    "print(\"L'exactitude est :\", model.score(X_test3, y_test3).round(3))\n",
    "\n",
    "y_pred3=model.predict(X_test3)\n",
    "pd.crosstab(y_test3, y_pred3, rownames=['réelle'], colnames=['predites'])\n"
   ]
  },
  {
   "cell_type": "code",
   "execution_count": 218,
   "id": "e29b617b",
   "metadata": {},
   "outputs": [
    {
     "name": "stdout",
     "output_type": "stream",
     "text": [
      "              precision    recall  f1-score   support\n",
      "\n",
      "           0       0.84      0.83      0.84      1342\n",
      "           1       0.48      0.50      0.49       413\n",
      "\n",
      "    accuracy                           0.76      1755\n",
      "   macro avg       0.66      0.67      0.67      1755\n",
      "weighted avg       0.76      0.76      0.76      1755\n",
      "\n"
     ]
    }
   ],
   "source": [
    "print(classification_report(y_test3,y_pred3))\n"
   ]
  },
  {
   "cell_type": "code",
   "execution_count": 219,
   "id": "1674a7a2",
   "metadata": {},
   "outputs": [],
   "source": [
    "# choix des valeurs possibles des hyperparamètres\n",
    "params= {'logisticregression__penalty' : ['l1', 'l2'],\n",
    "         'logisticregression__C' : [0.1,0.01,.09,1,5,25,40, 55,75],\n",
    "         'logisticregression__solver' : ['liblinear', 'saga']}"
   ]
  },
  {
   "cell_type": "code",
   "execution_count": 220,
   "id": "f00f69f7",
   "metadata": {},
   "outputs": [
    {
     "data": {
      "text/plain": [
       "GridSearchCV(cv=3,\n",
       "             estimator=Pipeline(steps=[('columntransformer',\n",
       "                                        ColumnTransformer(transformers=[('robustscaler',\n",
       "                                                                         RobustScaler(),\n",
       "                                                                         <sklearn.compose._column_transformer.make_column_selector object at 0x7fb671568e90>),\n",
       "                                                                        ('onehotencoder',\n",
       "                                                                         OneHotEncoder(handle_unknown='ignore'),\n",
       "                                                                         <sklearn.compose._column_transformer.make_column_selector object at 0x7fb671568fd0>)])),\n",
       "                                       ('logisticregression',\n",
       "                                        LogisticRegression(class_weight={0: 1,\n",
       "                                                                         1: 2.33},\n",
       "                                                           max_iter=10000,\n",
       "                                                           random_state=121))]),\n",
       "             param_grid={'logisticregression__C': [0.1, 0.01, 0.09, 1, 5, 25,\n",
       "                                                   40, 55, 75],\n",
       "                         'logisticregression__penalty': ['l1', 'l2'],\n",
       "                         'logisticregression__solver': ['liblinear', 'saga']},\n",
       "             scoring='recall')"
      ]
     },
     "execution_count": 220,
     "metadata": {},
     "output_type": "execute_result"
    }
   ],
   "source": [
    "# recherche des hyperparamètres optimum\n",
    "\n",
    "grid= GridSearchCV (model, params,scoring='recall', cv=3)\n",
    "grid.fit(X_train3, y_train3)"
   ]
  },
  {
   "cell_type": "code",
   "execution_count": 232,
   "id": "f1742463",
   "metadata": {
    "scrolled": true
   },
   "outputs": [
    {
     "name": "stdout",
     "output_type": "stream",
     "text": [
      "              precision    recall  f1-score   support\n",
      "\n",
      "           0       0.84      0.83      0.84      1342\n",
      "           1       0.48      0.50      0.49       413\n",
      "\n",
      "    accuracy                           0.76      1755\n",
      "   macro avg       0.66      0.67      0.67      1755\n",
      "weighted avg       0.76      0.76      0.76      1755\n",
      "\n"
     ]
    }
   ],
   "source": [
    "print(classification_report(y_test3,y_pred3))"
   ]
  },
  {
   "cell_type": "markdown",
   "id": "8c6f6f53",
   "metadata": {},
   "source": [
    "**Les performances restent tres décevantes.**\n",
    "\n",
    "Le recall de la classe 1 avec l'ajout de données est passé de 0,47 à 0,50\n"
   ]
  },
  {
   "cell_type": "markdown",
   "id": "9b64c982",
   "metadata": {},
   "source": [
    "# Etape Bonus : aggrégation des lignes correspondant à un même immeuble\n",
    "- Nous avions constaté que certains immeubles pouvaient etre assurés plusieurs années, chacune correspondant à une ligne\n",
    "- Si nous regroupions ces lignes en une seule en sommant les Expo et en considérant la Target à 1 si au moins sur une des années assurées, l'immeuble avait subi un sinistre, nous aurions peut être un résultat différent\n",
    "- Nous sommes parti du data frame de départ (df_init) pour le regroupement de lignes, et avons appliqué un GridSearch sur LRC pour comparer avec les performances obtenues à la fin de la cinquième étape"
   ]
  },
  {
   "cell_type": "code",
   "execution_count": 221,
   "id": "7107d272",
   "metadata": {},
   "outputs": [
    {
     "name": "stdout",
     "output_type": "stream",
     "text": [
      "(1715, 25)\n"
     ]
    }
   ],
   "source": [
    "# estimation du nombre d'enregistrements de type doublons \n",
    "test=df_init[df_init.iloc[:,3:-2].duplicated()==True]\n",
    "print(test.shape)"
   ]
  },
  {
   "cell_type": "code",
   "execution_count": 222,
   "id": "2586f2c9",
   "metadata": {},
   "outputs": [],
   "source": [
    "# création d'une variable d'agregation fusionnant les colonnes descriptives des immeubles, après avoir eliminé decennie\n",
    "df3=df_init.drop('quantile_10', axis=1)\n",
    "df3['superficief']=df3['superficief'].astype('str')\n",
    "\n",
    "df3['group'] = df3['ft_4_categ']+df3['ft_5_categ']+df3['ft_6_categ']+df3['ft_7_categ']+df3['ft_8_categ']+df3['ft_9_categ']+df3['ft_10_categ']+df3['ft_11_categ']+df3['ft_12_categ']+df3['ft_13_categ']+df3['ft_14_categ']+df3['ft_15_categ']+df3['ft_17_categ']+df3['ft_18_categ']+df3['ft_19_categ']+df3['superficief']+df3['ft_21_categ']+df3['ft_23_categ']+df3['ft_24_categ']+df3['Insee']+df3['decennie']"
   ]
  },
  {
   "cell_type": "code",
   "execution_count": 223,
   "id": "e5a6404c",
   "metadata": {},
   "outputs": [
    {
     "name": "stderr",
     "output_type": "stream",
     "text": [
      "/Users/jean-baptistevidal/opt/anaconda3/envs/env_geo/lib/python3.7/site-packages/pandas/core/series.py:4515: SettingWithCopyWarning: \n",
      "A value is trying to be set on a copy of a slice from a DataFrame\n",
      "\n",
      "See the caveats in the documentation: https://pandas.pydata.org/pandas-docs/stable/user_guide/indexing.html#returning-a-view-versus-a-copy\n",
      "  method=method,\n"
     ]
    }
   ],
   "source": [
    "# enchaînement d'opérations pour agréger les lignes, en calculant un Expo globale\n",
    "\n",
    "df4=df3.groupby('group').agg({'EXPO':'sum', 'target' :'sum'})\n",
    "df3=df3.drop(['EXPO', 'target','ft_2_categ'], 1)\n",
    "df5=df4.merge(df3, on='group', how='right')\n",
    "df6=df5.drop_duplicates(keep='first')\n",
    "# étape de recalcul de la target ne pouvant pas dépasser 1\n",
    "df6['target'].replace([6,5,4,3, 2], 1, inplace=True)"
   ]
  },
  {
   "cell_type": "code",
   "execution_count": 224,
   "id": "4220f80c",
   "metadata": {},
   "outputs": [],
   "source": [
    "# séparation de la target et des variables explicatives\n",
    "\n",
    "data=df6.drop(['target', 'group'], axis=1)\n",
    "target=df6['target']"
   ]
  },
  {
   "cell_type": "code",
   "execution_count": 225,
   "id": "ee3f9c46",
   "metadata": {},
   "outputs": [],
   "source": [
    "# re-création des ensembles d'entrainement et de test\n",
    "\n",
    "X_train6, X_test6, y_train6, y_test6=train_test_split(data, target, test_size=0.2, random_state=121)"
   ]
  },
  {
   "cell_type": "code",
   "execution_count": 226,
   "id": "9cbe2c35",
   "metadata": {},
   "outputs": [],
   "source": [
    "# séparation des numériques et des catégorielles\n",
    "\n",
    "numerical=make_column_selector(dtype_include=np.number)\n",
    "categorical=make_column_selector(dtype_exclude=np.number)"
   ]
  },
  {
   "cell_type": "code",
   "execution_count": 227,
   "id": "65d5adec",
   "metadata": {},
   "outputs": [],
   "source": [
    "# définition des transformations sur variables\n",
    "\n",
    "preprocessor = make_column_transformer((RobustScaler(), numerical),(OneHotEncoder(handle_unknown='ignore'),\n",
    "                                                                    categorical))"
   ]
  },
  {
   "cell_type": "code",
   "execution_count": 228,
   "id": "ff0a611e",
   "metadata": {},
   "outputs": [
    {
     "name": "stdout",
     "output_type": "stream",
     "text": [
      "L'exactitude est : 0.686\n"
     ]
    },
    {
     "data": {
      "text/html": [
       "<div>\n",
       "<style scoped>\n",
       "    .dataframe tbody tr th:only-of-type {\n",
       "        vertical-align: middle;\n",
       "    }\n",
       "\n",
       "    .dataframe tbody tr th {\n",
       "        vertical-align: top;\n",
       "    }\n",
       "\n",
       "    .dataframe thead th {\n",
       "        text-align: right;\n",
       "    }\n",
       "</style>\n",
       "<table border=\"1\" class=\"dataframe\">\n",
       "  <thead>\n",
       "    <tr style=\"text-align: right;\">\n",
       "      <th>predites</th>\n",
       "      <th>0</th>\n",
       "      <th>1</th>\n",
       "    </tr>\n",
       "    <tr>\n",
       "      <th>réelle</th>\n",
       "      <th></th>\n",
       "      <th></th>\n",
       "    </tr>\n",
       "  </thead>\n",
       "  <tbody>\n",
       "    <tr>\n",
       "      <th>0</th>\n",
       "      <td>808</td>\n",
       "      <td>229</td>\n",
       "    </tr>\n",
       "    <tr>\n",
       "      <th>1</th>\n",
       "      <td>220</td>\n",
       "      <td>174</td>\n",
       "    </tr>\n",
       "  </tbody>\n",
       "</table>\n",
       "</div>"
      ],
      "text/plain": [
       "predites    0    1\n",
       "réelle            \n",
       "0         808  229\n",
       "1         220  174"
      ]
     },
     "execution_count": 228,
     "metadata": {},
     "output_type": "execute_result"
    }
   ],
   "source": [
    "# conception du modele composite et entrainement avec  corection du déséquilibre de classes\n",
    "model = make_pipeline(preprocessor,\n",
    "                      LogisticRegression(max_iter=10000, random_state=121, class_weight={0:1, 1:2.33}))\n",
    "model.fit(X_train6, y_train6)\n",
    "\n",
    "print(\"L'exactitude est :\", model.score(X_test6, y_test6).round(3))\n",
    "\n",
    "y_pred6=model.predict(X_test6)\n",
    "pd.crosstab(y_test6, y_pred6, rownames=['réelle'], colnames=['predites'])\n"
   ]
  },
  {
   "cell_type": "code",
   "execution_count": 229,
   "id": "d5cbb29c",
   "metadata": {},
   "outputs": [
    {
     "name": "stdout",
     "output_type": "stream",
     "text": [
      "              precision    recall  f1-score   support\n",
      "\n",
      "           0       0.79      0.78      0.78      1037\n",
      "           1       0.43      0.44      0.44       394\n",
      "\n",
      "    accuracy                           0.69      1431\n",
      "   macro avg       0.61      0.61      0.61      1431\n",
      "weighted avg       0.69      0.69      0.69      1431\n",
      "\n"
     ]
    }
   ],
   "source": [
    "print(classification_report(y_test6,y_pred6))\n"
   ]
  },
  {
   "cell_type": "markdown",
   "id": "a7946ae4",
   "metadata": {},
   "source": [
    "**Cette approche** ne considérant pas les immeubles assurés plusieurs années comme des individus indépendants, ne donne pas de meilleurs résultats"
   ]
  },
  {
   "cell_type": "code",
   "execution_count": null,
   "id": "9cf099bf",
   "metadata": {},
   "outputs": [],
   "source": []
  }
 ],
 "metadata": {
  "kernelspec": {
   "display_name": "Python 3 (ipykernel)",
   "language": "python",
   "name": "python3"
  },
  "language_info": {
   "codemirror_mode": {
    "name": "ipython",
    "version": 3
   },
   "file_extension": ".py",
   "mimetype": "text/x-python",
   "name": "python",
   "nbconvert_exporter": "python",
   "pygments_lexer": "ipython3",
   "version": "3.9.7"
  }
 },
 "nbformat": 4,
 "nbformat_minor": 5
}
